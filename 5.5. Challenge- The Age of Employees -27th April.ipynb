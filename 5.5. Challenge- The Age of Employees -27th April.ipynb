{
 "cells": [
  {
   "cell_type": "markdown",
   "metadata": {},
   "source": [
    "# Problem statement\n",
    "The staff contains the start_date and date_of_birth columns. We’re asked to find the age of employees at the time they were hired in years. For instance, if an employee was born in 1991 and started working in 2021, then the answer should be 30.\n",
    "\n"
   ]
  },
  {
   "cell_type": "code",
   "execution_count": 2,
   "metadata": {},
   "outputs": [
    {
     "data": {
      "text/html": [
       "<div>\n",
       "<style scoped>\n",
       "    .dataframe tbody tr th:only-of-type {\n",
       "        vertical-align: middle;\n",
       "    }\n",
       "\n",
       "    .dataframe tbody tr th {\n",
       "        vertical-align: top;\n",
       "    }\n",
       "\n",
       "    .dataframe thead th {\n",
       "        text-align: right;\n",
       "    }\n",
       "</style>\n",
       "<table border=\"1\" class=\"dataframe\">\n",
       "  <thead>\n",
       "    <tr style=\"text-align: right;\">\n",
       "      <th></th>\n",
       "      <th>name</th>\n",
       "      <th>city</th>\n",
       "      <th>date_of_birth</th>\n",
       "      <th>start_date</th>\n",
       "      <th>salary</th>\n",
       "      <th>department</th>\n",
       "    </tr>\n",
       "  </thead>\n",
       "  <tbody>\n",
       "    <tr>\n",
       "      <th>0</th>\n",
       "      <td>John Doe</td>\n",
       "      <td>Houston, TX</td>\n",
       "      <td>1998-11-04</td>\n",
       "      <td>2018-08-11</td>\n",
       "      <td>$65,000</td>\n",
       "      <td>Accounting</td>\n",
       "    </tr>\n",
       "    <tr>\n",
       "      <th>1</th>\n",
       "      <td>Jane Doe</td>\n",
       "      <td>San Jose, CA</td>\n",
       "      <td>1995-08-05</td>\n",
       "      <td>2017-08-24</td>\n",
       "      <td>$70,000</td>\n",
       "      <td>Field Quality</td>\n",
       "    </tr>\n",
       "    <tr>\n",
       "      <th>2</th>\n",
       "      <td>Matt smith</td>\n",
       "      <td>Dallas, TX</td>\n",
       "      <td>1996-11-25</td>\n",
       "      <td>2020-04-16</td>\n",
       "      <td>$58,500</td>\n",
       "      <td>human resources</td>\n",
       "    </tr>\n",
       "    <tr>\n",
       "      <th>3</th>\n",
       "      <td>Ashley Harris</td>\n",
       "      <td>Miami, FL</td>\n",
       "      <td>1995-01-08</td>\n",
       "      <td>2021-02-11</td>\n",
       "      <td>$49,500</td>\n",
       "      <td>accounting</td>\n",
       "    </tr>\n",
       "    <tr>\n",
       "      <th>4</th>\n",
       "      <td>Jonathan targett</td>\n",
       "      <td>Santa Clara, CA</td>\n",
       "      <td>1998-08-14</td>\n",
       "      <td>2020-09-01</td>\n",
       "      <td>$62,000</td>\n",
       "      <td>field quality</td>\n",
       "    </tr>\n",
       "    <tr>\n",
       "      <th>5</th>\n",
       "      <td>Hale Cole</td>\n",
       "      <td>Atlanta, GA</td>\n",
       "      <td>2000-10-24</td>\n",
       "      <td>2021-10-20</td>\n",
       "      <td>$54,500</td>\n",
       "      <td>engineering</td>\n",
       "    </tr>\n",
       "  </tbody>\n",
       "</table>\n",
       "</div>"
      ],
      "text/plain": [
       "               name             city date_of_birth  start_date   salary  \\\n",
       "0          John Doe      Houston, TX    1998-11-04  2018-08-11  $65,000   \n",
       "1          Jane Doe     San Jose, CA    1995-08-05  2017-08-24  $70,000   \n",
       "2        Matt smith       Dallas, TX    1996-11-25  2020-04-16  $58,500   \n",
       "3     Ashley Harris        Miami, FL    1995-01-08  2021-02-11  $49,500   \n",
       "4  Jonathan targett  Santa Clara, CA    1998-08-14  2020-09-01  $62,000   \n",
       "5         Hale Cole      Atlanta, GA    2000-10-24  2021-10-20  $54,500   \n",
       "\n",
       "        department  \n",
       "0       Accounting  \n",
       "1    Field Quality  \n",
       "2  human resources  \n",
       "3       accounting  \n",
       "4    field quality  \n",
       "5      engineering  "
      ]
     },
     "execution_count": 2,
     "metadata": {},
     "output_type": "execute_result"
    }
   ],
   "source": [
    "import pandas as pd\n",
    "\n",
    "staff = pd.read_csv(\"staff.csv\")\n",
    "\n",
    "staff"
   ]
  },
  {
   "cell_type": "code",
   "execution_count": 13,
   "metadata": {},
   "outputs": [
    {
     "name": "stdout",
     "output_type": "stream",
     "text": [
      "[19, 22, 23, 26, 22, 21]\n"
     ]
    }
   ],
   "source": [
    "import pandas as pd\n",
    "\n",
    "staff = pd.read_csv(\"staff.csv\")\n",
    "\n",
    "staff = staff.astype({\n",
    "    \"date_of_birth\": \"datetime64[ns]\",\n",
    "    \"start_date\": \"datetime64[ns]\"\n",
    "})\n",
    "# staff[\"age\"] = staff[\"start_date\"].dt.year - staff[\"date_of_birth\"].dt.year\n",
    "staff[\"age\"] = (staff[\"start_date\"] - staff[\"date_of_birth\"]).dt.days/365\n",
    "staff[\"age\"] = staff[\"age\"].astype(\"int\")\n",
    "print(list(staff[\"age\"]))"
   ]
  },
  {
   "cell_type": "markdown",
   "metadata": {},
   "source": [
    "Exact year is needed, hence."
   ]
  }
 ],
 "metadata": {
  "kernelspec": {
   "display_name": "Python 3",
   "language": "python",
   "name": "python3"
  },
  "language_info": {
   "codemirror_mode": {
    "name": "ipython",
    "version": 3
   },
   "file_extension": ".py",
   "mimetype": "text/x-python",
   "name": "python",
   "nbconvert_exporter": "python",
   "pygments_lexer": "ipython3",
   "version": "3.11.7"
  }
 },
 "nbformat": 4,
 "nbformat_minor": 2
}

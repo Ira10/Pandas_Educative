{
 "cells": [
  {
   "cell_type": "markdown",
   "id": "5530941b-1257-45fe-bbd9-97c8bb3a33db",
   "metadata": {},
   "source": [
    "# How to use indexes on strings\n",
    "\n",
    "In this chapter, we’ll use a different dataset called <font color='red'>staff.csv</font>. Let’s begin by creating a <font color='red'>DataFrame</font> by reading the file."
   ]
  },
  {
   "cell_type": "code",
   "execution_count": 1,
   "id": "39155fd6-2a5c-484d-a267-10e655613a9e",
   "metadata": {},
   "outputs": [
    {
     "name": "stdout",
     "output_type": "stream",
     "text": [
      "\n",
      "Staff data frame has the following columns: \n",
      "['name', 'city', 'date_of_birth', 'start_date', 'salary', 'department']\n",
      "\n",
      "               name             city date_of_birth  start_date   salary  \\\n",
      "0          John Doe      Houston, TX    1998-11-04  2018-08-11  $65,000   \n",
      "1          Jane Doe     San Jose, CA    1995-08-05  2017-08-24  $70,000   \n",
      "2        Matt smith       Dallas, TX    1996-11-25  2020-04-16  $58,500   \n",
      "3     Ashley Harris        Miami, FL    1995-01-08  2021-02-11  $49,500   \n",
      "4  Jonathan targett  Santa Clara, CA    1998-08-14  2020-09-01  $62,000   \n",
      "5         Hale Cole      Atlanta, GA    2000-10-24  2021-10-20  $54,500   \n",
      "\n",
      "        department  \n",
      "0       Accounting  \n",
      "1    Field Quality  \n",
      "2  human resources  \n",
      "3       accounting  \n",
      "4    field quality  \n",
      "5      engineering  \n"
     ]
    }
   ],
   "source": [
    "import pandas as pd\n",
    "\n",
    "staff = pd.read_csv(\"staff.csv\")\n",
    "\n",
    "print(f\"\\nStaff data frame has the following columns: \\n{list(staff.columns)}\\n\")\n",
    "\n",
    "print(staff)"
   ]
  },
  {
   "cell_type": "code",
   "execution_count": 2,
   "id": "a36aeb66-67bc-4485-8339-0bbf19b9666c",
   "metadata": {},
   "outputs": [
    {
     "data": {
      "text/plain": [
       "Index(['name', 'city', 'date_of_birth', 'start_date', 'salary', 'department'], dtype='object')"
      ]
     },
     "execution_count": 2,
     "metadata": {},
     "output_type": "execute_result"
    }
   ],
   "source": [
    "staff.columns"
   ]
  },
  {
   "cell_type": "markdown",
   "id": "77603cf2-8820-4855-a763-0f82b5c8e777",
   "metadata": {},
   "source": [
    "Textual data is an important component of data science. Some areas require working with textual data excessively, such as <u>natural language processing (NLP)</u>. The Pandas library provides several functions and methods for working with textual data. They can be accessed via the **str accessor**. The first operation we’ll discover uses indexes of strings.\n",
    "\n",
    "A string is a sequence of characters, so each character has an <u>associated index</u>. The indexes of characters can be used to select an individual character or a slice from a string. For instance, we can get the first letter of the strings in the name column as below:"
   ]
  },
  {
   "cell_type": "code",
   "execution_count": 3,
   "id": "68cb7ada-58cb-4c2c-b7e1-2ff4971d1d31",
   "metadata": {},
   "outputs": [
    {
     "name": "stdout",
     "output_type": "stream",
     "text": [
      "0    J\n",
      "1    J\n",
      "2    M\n",
      "3    A\n",
      "4    J\n",
      "5    H\n",
      "Name: name, dtype: object\n"
     ]
    }
   ],
   "source": [
    "import pandas as pd\n",
    "\n",
    "staff = pd.read_csv(\"staff.csv\")\n",
    "\n",
    "print(staff[\"name\"].str[0])"
   ]
  },
  {
   "cell_type": "code",
   "execution_count": 4,
   "id": "dde0c835-1f1f-49b8-af81-013a339ed338",
   "metadata": {},
   "outputs": [
    {
     "data": {
      "text/plain": [
       "0            John Doe\n",
       "1            Jane Doe\n",
       "2          Matt smith\n",
       "3       Ashley Harris\n",
       "4    Jonathan targett\n",
       "5           Hale Cole\n",
       "Name: name, dtype: object"
      ]
     },
     "execution_count": 4,
     "metadata": {},
     "output_type": "execute_result"
    }
   ],
   "source": [
    "staff[\"name\"]"
   ]
  },
  {
   "cell_type": "markdown",
   "id": "e5b0a87d-919d-4c3f-9364-bf28438b4cf1",
   "metadata": {},
   "source": [
    "The strings have integer indexes starting from zero. If we want to take a slice from a string, we simply need to specify the start and end index. For example, we can select the first three letters of the name column as below:"
   ]
  },
  {
   "cell_type": "code",
   "execution_count": 5,
   "id": "b4cd77b5-40bd-40e9-961a-da342280e7fc",
   "metadata": {},
   "outputs": [
    {
     "name": "stdout",
     "output_type": "stream",
     "text": [
      "0    Joh\n",
      "1    Jan\n",
      "2    Mat\n",
      "3    Ash\n",
      "4    Jon\n",
      "5    Hal\n",
      "Name: name, dtype: object\n"
     ]
    }
   ],
   "source": [
    "import pandas as pd\n",
    "\n",
    "staff = pd.read_csv(\"staff.csv\")\n",
    "\n",
    "print(staff[\"name\"].str[0:3])"
   ]
  },
  {
   "cell_type": "markdown",
   "id": "cfc2d9d5-58af-4a41-9728-3fbbb4452910",
   "metadata": {},
   "source": [
    "If the desired slice starts from the **first index (zero)**, we needn’t write the initial index. Thus, the following line of code does the same thing as above."
   ]
  },
  {
   "cell_type": "code",
   "execution_count": 6,
   "id": "86c6eb65-d598-4246-a4c4-3a6c654e2da5",
   "metadata": {},
   "outputs": [
    {
     "data": {
      "text/plain": [
       "0    Joh\n",
       "1    Jan\n",
       "2    Mat\n",
       "3    Ash\n",
       "4    Jon\n",
       "5    Hal\n",
       "Name: name, dtype: object"
      ]
     },
     "execution_count": 6,
     "metadata": {},
     "output_type": "execute_result"
    }
   ],
   "source": [
    "staff[\"name\"].str[:3]\n"
   ]
  },
  {
   "cell_type": "markdown",
   "id": "a1e89e61-a4eb-4109-9799-bf0aacd2d01f",
   "metadata": {},
   "source": [
    "It’s important to note that the **<u>upper bound is exclusive**</u>. Thus, [:3] indicates the **indexes 0, 1, and 2**. It’s possible to use an index that starts from the end of a string. In this case, the indexes start from -1 and continue as -2, -3, and so on. The following line of code returns the last two characters of the city column."
   ]
  },
  {
   "cell_type": "code",
   "execution_count": 7,
   "id": "70d56314-ae41-49f2-ba23-ca9078a72159",
   "metadata": {},
   "outputs": [
    {
     "name": "stdout",
     "output_type": "stream",
     "text": [
      "0    oe\n",
      "1    oe\n",
      "2    th\n",
      "3    is\n",
      "4    tt\n",
      "5    le\n",
      "Name: name, dtype: object\n"
     ]
    }
   ],
   "source": [
    "import pandas as pd\n",
    "\n",
    "staff = pd.read_csv(\"staff.csv\")\n",
    "\n",
    "print(staff[\"name\"].str[-2:])"
   ]
  },
  {
   "cell_type": "markdown",
   "id": "5d08a9d8-6300-401d-b320-30d46aab427e",
   "metadata": {},
   "source": [
    "To make the slicing and indexing operations even more flexible, Pandas allows for customizing the step size as well. For instance, we can create a slice that involves every other character, starting from the second-to-last index."
   ]
  },
  {
   "cell_type": "code",
   "execution_count": 8,
   "id": "97f067df-2936-4b38-b43e-2c98670fe190",
   "metadata": {},
   "outputs": [
    {
     "name": "stdout",
     "output_type": "stream",
     "text": [
      "0        onDe\n",
      "1        aeDe\n",
      "2       atsih\n",
      "3      slyHri\n",
      "4    oahntret\n",
      "5        aeCl\n",
      "Name: name, dtype: object\n"
     ]
    }
   ],
   "source": [
    "import pandas as pd\n",
    "\n",
    "staff = pd.read_csv(\"staff.csv\")\n",
    "\n",
    "print(staff[\"name\"].str[1::2])"
   ]
  },
  {
   "cell_type": "code",
   "execution_count": 9,
   "id": "9f30d73e-efa1-4ed4-bd2e-8d71122a2c75",
   "metadata": {},
   "outputs": [
    {
     "data": {
      "text/plain": [
       "0            John Doe\n",
       "1            Jane Doe\n",
       "2          Matt smith\n",
       "3       Ashley Harris\n",
       "4    Jonathan targett\n",
       "5           Hale Cole\n",
       "Name: name, dtype: object"
      ]
     },
     "execution_count": 9,
     "metadata": {},
     "output_type": "execute_result"
    }
   ],
   "source": [
    "staff[\"name\"]"
   ]
  },
  {
   "cell_type": "markdown",
   "id": "3658080f-011e-4df8-9e36-1b130beba319",
   "metadata": {},
   "source": [
    "The structure is as follows:\n",
    "\n",
    "If the end is left blank, then the slice goes up to the end of the string.\n",
    "\n",
    "**str[start : end : step size]**"
   ]
  },
  {
   "cell_type": "code",
   "execution_count": null,
   "id": "8dfe237a-7a4c-4045-b479-1a0a85517e05",
   "metadata": {},
   "outputs": [],
   "source": []
  }
 ],
 "metadata": {
  "kernelspec": {
   "display_name": "Python 3 (ipykernel)",
   "language": "python",
   "name": "python3"
  },
  "language_info": {
   "codemirror_mode": {
    "name": "ipython",
    "version": 3
   },
   "file_extension": ".py",
   "mimetype": "text/x-python",
   "name": "python",
   "nbconvert_exporter": "python",
   "pygments_lexer": "ipython3",
   "version": "3.11.7"
  }
 },
 "nbformat": 4,
 "nbformat_minor": 5
}

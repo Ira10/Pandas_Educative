{
 "cells": [
  {
   "cell_type": "markdown",
   "id": "0fee0191-150f-4ee8-9bee-27930a2ab44b",
   "metadata": {},
   "source": [
    "Problem statement\n",
    "The values in the salary column of the staff (DataFrame) are stored as a string. We need to convert it to a numerical format to make calculations.\n",
    "\n",
    "There are two issues that we need to solve before converting it to a numerical data type.\n",
    "\n",
    "We need to remove the “$” sign at the beginning.\n",
    "We need to remove the “,” used as the thousands separator."
   ]
  },
  {
   "cell_type": "code",
   "execution_count": 21,
   "id": "e5a3b56a-5140-49a5-a6e6-28bc554c46b6",
   "metadata": {},
   "outputs": [
    {
     "data": {
      "text/plain": [
       "[65000, 70000, 58500, 49500, 62000, 54500]"
      ]
     },
     "execution_count": 21,
     "metadata": {},
     "output_type": "execute_result"
    }
   ],
   "source": [
    "import pandas as pd\n",
    "\n",
    "staff = pd.read_csv(\"staff.csv\")\n",
    "\n",
    "# staff[\"salary_cleaned\"] = (staff[\"salary\"].str.replace(\"$\",\"\"))\n",
    "# staff[\"salary_cleaned\"] = staff[\"salary_cleaned\"].astype('int')\n",
    "# list(staff[\"salary_cleaned\"])\n",
    "\n",
    "\n",
    "staff[\"salary_cleaned\"] = staff[\"salary\"].str[1:].str.replace(\",\",\"\") # Write your solution here\n",
    "staff[\"salary_cleaned\"] = staff[\"salary_cleaned\"].astype(\"int\")\n",
    "list(staff[\"salary_cleaned\"])"
   ]
  },
  {
   "cell_type": "code",
   "execution_count": 12,
   "id": "fb17d5a2-ac60-4235-a388-a84912a81b3a",
   "metadata": {},
   "outputs": [
    {
     "data": {
      "text/html": [
       "<div>\n",
       "<style scoped>\n",
       "    .dataframe tbody tr th:only-of-type {\n",
       "        vertical-align: middle;\n",
       "    }\n",
       "\n",
       "    .dataframe tbody tr th {\n",
       "        vertical-align: top;\n",
       "    }\n",
       "\n",
       "    .dataframe thead th {\n",
       "        text-align: right;\n",
       "    }\n",
       "</style>\n",
       "<table border=\"1\" class=\"dataframe\">\n",
       "  <thead>\n",
       "    <tr style=\"text-align: right;\">\n",
       "      <th></th>\n",
       "      <th>name</th>\n",
       "      <th>city</th>\n",
       "      <th>date_of_birth</th>\n",
       "      <th>start_date</th>\n",
       "      <th>salary</th>\n",
       "      <th>department</th>\n",
       "      <th>salary_cleaned</th>\n",
       "    </tr>\n",
       "  </thead>\n",
       "  <tbody>\n",
       "    <tr>\n",
       "      <th>0</th>\n",
       "      <td>John Doe</td>\n",
       "      <td>Houston, TX</td>\n",
       "      <td>1998-11-04</td>\n",
       "      <td>2018-08-11</td>\n",
       "      <td>$65,000</td>\n",
       "      <td>Accounting</td>\n",
       "      <td>65,000</td>\n",
       "    </tr>\n",
       "    <tr>\n",
       "      <th>1</th>\n",
       "      <td>Jane Doe</td>\n",
       "      <td>San Jose, CA</td>\n",
       "      <td>1995-08-05</td>\n",
       "      <td>2017-08-24</td>\n",
       "      <td>$70,000</td>\n",
       "      <td>Field Quality</td>\n",
       "      <td>70,000</td>\n",
       "    </tr>\n",
       "    <tr>\n",
       "      <th>2</th>\n",
       "      <td>Matt smith</td>\n",
       "      <td>Dallas, TX</td>\n",
       "      <td>1996-11-25</td>\n",
       "      <td>2020-04-16</td>\n",
       "      <td>$58,500</td>\n",
       "      <td>human resources</td>\n",
       "      <td>58,500</td>\n",
       "    </tr>\n",
       "    <tr>\n",
       "      <th>3</th>\n",
       "      <td>Ashley Harris</td>\n",
       "      <td>Miami, FL</td>\n",
       "      <td>1995-01-08</td>\n",
       "      <td>2021-02-11</td>\n",
       "      <td>$49,500</td>\n",
       "      <td>accounting</td>\n",
       "      <td>49,500</td>\n",
       "    </tr>\n",
       "    <tr>\n",
       "      <th>4</th>\n",
       "      <td>Jonathan targett</td>\n",
       "      <td>Santa Clara, CA</td>\n",
       "      <td>1998-08-14</td>\n",
       "      <td>2020-09-01</td>\n",
       "      <td>$62,000</td>\n",
       "      <td>field quality</td>\n",
       "      <td>62,000</td>\n",
       "    </tr>\n",
       "    <tr>\n",
       "      <th>5</th>\n",
       "      <td>Hale Cole</td>\n",
       "      <td>Atlanta, GA</td>\n",
       "      <td>2000-10-24</td>\n",
       "      <td>2021-10-20</td>\n",
       "      <td>$54,500</td>\n",
       "      <td>engineering</td>\n",
       "      <td>54,500</td>\n",
       "    </tr>\n",
       "  </tbody>\n",
       "</table>\n",
       "</div>"
      ],
      "text/plain": [
       "               name             city date_of_birth  start_date   salary  \\\n",
       "0          John Doe      Houston, TX    1998-11-04  2018-08-11  $65,000   \n",
       "1          Jane Doe     San Jose, CA    1995-08-05  2017-08-24  $70,000   \n",
       "2        Matt smith       Dallas, TX    1996-11-25  2020-04-16  $58,500   \n",
       "3     Ashley Harris        Miami, FL    1995-01-08  2021-02-11  $49,500   \n",
       "4  Jonathan targett  Santa Clara, CA    1998-08-14  2020-09-01  $62,000   \n",
       "5         Hale Cole      Atlanta, GA    2000-10-24  2021-10-20  $54,500   \n",
       "\n",
       "        department salary_cleaned  \n",
       "0       Accounting         65,000  \n",
       "1    Field Quality         70,000  \n",
       "2  human resources         58,500  \n",
       "3       accounting         49,500  \n",
       "4    field quality         62,000  \n",
       "5      engineering         54,500  "
      ]
     },
     "execution_count": 12,
     "metadata": {},
     "output_type": "execute_result"
    }
   ],
   "source": [
    "staff\n",
    "\n",
    "# staff[\"salary_cleaned\"] = (staff[\"salary\"].replace(\"$\",\" \"))  won't work because str is not mentioned"
   ]
  },
  {
   "cell_type": "markdown",
   "id": "5081adc4-913b-4532-8668-85bb1cf0a94e",
   "metadata": {},
   "source": [
    "\n",
    "(Select all that apply) Which is the correct expression for selecting the first three characters of a string?"
   ]
  },
  {
   "cell_type": "code",
   "execution_count": 22,
   "id": "31ad90ce-c551-44a8-ab84-822f91cb383e",
   "metadata": {},
   "outputs": [
    {
     "ename": "TypeError",
     "evalue": "type 'str' is not subscriptable",
     "output_type": "error",
     "traceback": [
      "\u001b[0;31m---------------------------------------------------------------------------\u001b[0m",
      "\u001b[0;31mTypeError\u001b[0m                                 Traceback (most recent call last)",
      "Cell \u001b[0;32mIn[22], line 1\u001b[0m\n\u001b[0;32m----> 1\u001b[0m \u001b[38;5;28mstr\u001b[39m[:\u001b[38;5;241m3\u001b[39m]\n\u001b[1;32m      3\u001b[0m \u001b[38;5;28mstr\u001b[39m[\u001b[38;5;241m0\u001b[39m:\u001b[38;5;241m3\u001b[39m]\n",
      "\u001b[0;31mTypeError\u001b[0m: type 'str' is not subscriptable"
     ]
    }
   ],
   "source": [
    "str[:3]\n",
    "\n",
    "str[0:3]\n"
   ]
  },
  {
   "cell_type": "markdown",
   "id": "e50ba737-1b42-48ed-a913-1707f45871e4",
   "metadata": {},
   "source": [
    "(Select all that apply) How can we remove the % sign from the following string?\n",
    "\n",
    "95.40%"
   ]
  },
  {
   "cell_type": "code",
   "execution_count": null,
   "id": "37bbe1c3-917d-4ce8-a15a-170312420f2f",
   "metadata": {},
   "outputs": [],
   "source": [
    "str.replace(\"%\",\"\")\n",
    "\n",
    "str[:-1]"
   ]
  },
  {
   "cell_type": "markdown",
   "id": "0eafb4a3-0279-4ecb-8ed4-cfd4d81579ed",
   "metadata": {},
   "source": [
    "Which method is used for making only the first letter of a string uppercase?"
   ]
  },
  {
   "cell_type": "code",
   "execution_count": null,
   "id": "bcf8394b-d0a5-4494-b123-67696949e6b3",
   "metadata": {},
   "outputs": [],
   "source": [
    "capitalize"
   ]
  }
 ],
 "metadata": {
  "kernelspec": {
   "display_name": "Python 3 (ipykernel)",
   "language": "python",
   "name": "python3"
  },
  "language_info": {
   "codemirror_mode": {
    "name": "ipython",
    "version": 3
   },
   "file_extension": ".py",
   "mimetype": "text/x-python",
   "name": "python",
   "nbconvert_exporter": "python",
   "pygments_lexer": "ipython3",
   "version": "3.11.7"
  }
 },
 "nbformat": 4,
 "nbformat_minor": 5
}

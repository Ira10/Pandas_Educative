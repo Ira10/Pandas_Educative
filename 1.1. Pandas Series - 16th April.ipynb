{
 "cells": [
  {
   "cell_type": "markdown",
   "id": "ac8d17a1-0560-4531-aa58-1f3e6f064ef6",
   "metadata": {},
   "source": [
    "# Pandas Series\n",
    "the one-dimensional data structure of Pandas.\n",
    "\n",
    "# What is <font color='brown'>Series</font> in Pandas?\n",
    "Series is a one-dimensional array with axis labels. There are multiple ways to create an array. Before exploring the examples, we’ll need to import Pandas."
   ]
  },
  {
   "cell_type": "code",
   "execution_count": 1,
   "id": "6c66a214-1606-4bea-ae43-7a3e059e2077",
   "metadata": {},
   "outputs": [],
   "source": [
    "import pandas as pd"
   ]
  },
  {
   "cell_type": "markdown",
   "id": "fe326528-21cd-4c84-a014-984ac5301745",
   "metadata": {},
   "source": [
    "When importing a Python library, the common practice is to assign an alias. The pd is used for Pandas, but you can assign anything you want. If you assign a different alias, make sure to replace pd in the examples with the one you used.\n",
    "\n"
   ]
  },
  {
   "cell_type": "code",
   "execution_count": 2,
   "id": "62dc7f8e-e5f7-43ff-aefa-1cc498106d19",
   "metadata": {},
   "outputs": [
    {
     "name": "stdout",
     "output_type": "stream",
     "text": [
      "0    10\n",
      "1    20\n",
      "2    30\n",
      "dtype: int64\n"
     ]
    }
   ],
   "source": [
    "import pandas as pd\n",
    "\n",
    "myseries = pd.Series([10, 20, 30])\n",
    "\n",
    "print(myseries)"
   ]
  },
  {
   "cell_type": "markdown",
   "id": "be61bfd8-0089-45ae-9412-b11e7fb0e002",
   "metadata": {},
   "source": [
    "By default, <font color ='red'>Series</font> **is assigned an integer index**, but it can be changed using the index parameter.\n",
    "\n"
   ]
  },
  {
   "cell_type": "code",
   "execution_count": 3,
   "id": "e778d52e-15cb-4e6a-a1a6-337ca42aa54c",
   "metadata": {},
   "outputs": [
    {
     "name": "stdout",
     "output_type": "stream",
     "text": [
      "a    10\n",
      "b    20\n",
      "c    30\n",
      "dtype: int64\n"
     ]
    }
   ],
   "source": [
    "import pandas as pd\n",
    "\n",
    "myseries = pd.Series(\n",
    "     [10,20,30], \n",
    "     index = [\"a\",\"b\",\"c\"]\n",
    ")\n",
    "\n",
    "print(myseries)"
   ]
  },
  {
   "cell_type": "markdown",
   "id": "0219b271-4544-498b-ad91-60ffd6747c63",
   "metadata": {},
   "source": [
    "#### We can access the items in a Series with their index.\n",
    "\n"
   ]
  },
  {
   "cell_type": "code",
   "execution_count": 4,
   "id": "25a3f9f9-04bd-4297-b8ca-1858f7603d30",
   "metadata": {},
   "outputs": [
    {
     "name": "stdout",
     "output_type": "stream",
     "text": [
      "Jane\n"
     ]
    }
   ],
   "source": [
    "import pandas as pd\n",
    "\n",
    "myseries = pd.Series(\n",
    "   [\"Jane\",\"John\",\"Emily\",\"Matt\"]\n",
    ")\n",
    "\n",
    "# Print the first item\n",
    "print(myseries[0])"
   ]
  },
  {
   "cell_type": "markdown",
   "id": "154d5887-a343-4739-95c0-485eeff6284a",
   "metadata": {},
   "source": [
    "The <font color ='red'>Series</font> index can also be **created using a Python dictionary or NumPy array**. We simply need to pass them to the <font color ='red'>Series</font> constructor as we’ve done so far. Pandas provides several methods and functions that can be used on <font color ='red'>Series</font>.\n",
    "\n",
    "Let’s work through these methods with a couple of examples. The is_unique method checks for any duplicate items in a <font color ='red'>Series</font>."
   ]
  },
  {
   "cell_type": "code",
   "execution_count": 5,
   "id": "bfef18f5-3b0b-4a10-995f-881d7f4e44d6",
   "metadata": {},
   "outputs": [
    {
     "name": "stdout",
     "output_type": "stream",
     "text": [
      "True\n"
     ]
    }
   ],
   "source": [
    "import pandas as pd\n",
    "\n",
    "myseries = pd.Series([1,2,3])\n",
    "print(myseries.is_unique)"
   ]
  },
  {
   "cell_type": "code",
   "execution_count": 6,
   "id": "b8b46d2e-9538-44ee-aa32-d0cc222f2669",
   "metadata": {},
   "outputs": [
    {
     "name": "stdout",
     "output_type": "stream",
     "text": [
      "False\n"
     ]
    }
   ],
   "source": [
    "import pandas as pd\n",
    "\n",
    "myseries = pd.Series([1,1,3])\n",
    "print(myseries.is_unique)"
   ]
  }
 ],
 "metadata": {
  "kernelspec": {
   "display_name": "Python 3 (ipykernel)",
   "language": "python",
   "name": "python3"
  },
  "language_info": {
   "codemirror_mode": {
    "name": "ipython",
    "version": 3
   },
   "file_extension": ".py",
   "mimetype": "text/x-python",
   "name": "python",
   "nbconvert_exporter": "python",
   "pygments_lexer": "ipython3",
   "version": "3.11.7"
  }
 },
 "nbformat": 4,
 "nbformat_minor": 5
}

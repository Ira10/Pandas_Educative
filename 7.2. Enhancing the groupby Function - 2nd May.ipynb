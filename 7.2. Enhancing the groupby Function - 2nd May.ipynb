{
 "cells": [
  {
   "cell_type": "markdown",
   "id": "ccfb5969-7b14-4eeb-8381-5247d7bbe605",
   "metadata": {},
   "source": [
    "# Named aggregations\n",
    "In the previous lesson, we selected the product_group and price columns before applying the groupby and mean functions so that the output only shows the product groups and average prices. We do not have to select the columns beforehand if we use named aggregations. We can simply specify the name of the column and the type of aggregate function. Another advantage of using named aggregations is that we can assign a more descriptive name to the aggregated column. Let’s repeat the example in the previous lesson with a named aggregation."
   ]
  },
  {
   "cell_type": "code",
   "execution_count": null,
   "id": "3e4db696-cb20-4725-a60e-47c3038eb27b",
   "metadata": {},
   "outputs": [],
   "source": [
    "import pandas as pd\n",
    "\n",
    "grocery = pd.read_csv(\"grocery.csv\")\n",
    "\n",
    "print(\n",
    "  grocery.groupby(\"product_group\").agg(\n",
    "    avg_price = (\"price\",\"mean\")\n",
    "  )\n",
    ")"
   ]
  },
  {
   "cell_type": "markdown",
   "id": "0e6b615c-4155-4e63-8f5f-ebe1770d1e26",
   "metadata": {},
   "source": [
    "We can perform multiple aggregations in a single operation. Let’s calculate the total sales quantity for each group, in addition to the average price."
   ]
  },
  {
   "cell_type": "code",
   "execution_count": null,
   "id": "d3230c60-830f-4e0b-8c59-fb50e5f5fe58",
   "metadata": {},
   "outputs": [],
   "source": [
    "import pandas as pd\n",
    "\n",
    "grocery = pd.read_csv(\"grocery.csv\")\n",
    "\n",
    "print(\n",
    "  grocery.groupby(\"product_group\").agg(\n",
    "    avg_price = (\"price\",\"mean\"),\n",
    "    total_sales = (\"sales_quantity\", \"sum\")\n",
    "  )\n",
    ")"
   ]
  },
  {
   "cell_type": "markdown",
   "id": "4230abbc-4612-45c4-b8ca-c5ea1a6839e2",
   "metadata": {},
   "source": [
    "# The sort_values function\n",
    "In some cases, we may want to sort the groups according to the aggregated values. It’s a useful practice, especially when we have several groups. The sort_values function can be used for this task. Let’s calculate the average price and total sales quantity for each product and then sort the values by total sales quantities."
   ]
  },
  {
   "cell_type": "code",
   "execution_count": null,
   "id": "16d4f01d-7f22-423d-922f-520780f60c5f",
   "metadata": {},
   "outputs": [],
   "source": [
    "import pandas as pd\n",
    "\n",
    "grocery = pd.read_csv(\"grocery.csv\")\n",
    "\n",
    "print(\n",
    "  grocery.groupby(\"product_description\").agg(\n",
    "    avg_price = (\"price\",\"mean\"),\n",
    "    total_sales = (\"sales_quantity\", \"sum\")\n",
    "  ).sort_values(\n",
    "    by=\"total_sales\",\n",
    "    ascending=False\n",
    "  )\n",
    ")"
   ]
  },
  {
   "cell_type": "markdown",
   "id": "afed1ef0-9386-49c0-9ce9-9b293a473929",
   "metadata": {},
   "source": [
    "The results are sorted in ascending order by default, but we can change this behavior by setting the ascending parameter as False. By default, the groups are shown as the index of the resulting DataFrame. If we want to have the groups as a column in the DataFrame, we need to set the as_index parameter as False.\n",
    "\n",
    "The groupby function accepts multiple columns for grouping as well. In that case, groups are generated based on the combinations of the distinct values in each column. In the case that we use multiple columns for grouping, the column names must be written in a list.\n",
    "\n",
    "Suppose we have a DataFrame with three columns: brand, color, and price. The distinct categories in the brand column are Ford and Toyota and the distinct categories in the color column are white and red. If we group the rows by the brand and color columns, the following groups will be generated:\n",
    "\n",
    "Ford and white\n",
    "Ford and red\n",
    "Toyota and white\n",
    "Toyota and red\n",
    "Let’s see an example on the grocery to demonstrate the use of multiple columns with the groupby function."
   ]
  },
  {
   "cell_type": "code",
   "execution_count": null,
   "id": "718a5f8f-4722-4ad5-a04f-c3df23b9e7ca",
   "metadata": {},
   "outputs": [],
   "source": [
    "import pandas as pd\n",
    "\n",
    "grocery = pd.read_csv(\"grocery.csv\")\n",
    "\n",
    "print(\n",
    "  grocery.groupby(\n",
    "    [\"product_description\", \"product_group\"]\n",
    "  ).agg(\n",
    "    avg_price = (\"price\",\"mean\"),\n",
    "    total_sales = (\"sales_quantity\", \"sum\")\n",
    "  )\n",
    ")"
   ]
  },
  {
   "cell_type": "markdown",
   "id": "26ca6667-55b1-4144-851a-b3679a9f3b98",
   "metadata": {},
   "source": [
    "The groupby is a highly flexible and powerful function and is frequently used in data analysis tasks."
   ]
  }
 ],
 "metadata": {
  "kernelspec": {
   "display_name": "Python 3 (ipykernel)",
   "language": "python",
   "name": "python3"
  },
  "language_info": {
   "codemirror_mode": {
    "name": "ipython",
    "version": 3
   },
   "file_extension": ".py",
   "mimetype": "text/x-python",
   "name": "python",
   "nbconvert_exporter": "python",
   "pygments_lexer": "ipython3",
   "version": "3.11.7"
  }
 },
 "nbformat": 4,
 "nbformat_minor": 5
}

{
 "cells": [
  {
   "cell_type": "markdown",
   "id": "06a0f3af-520e-4364-8f15-2760662f62f0",
   "metadata": {},
   "source": [
    "# Upper and lower case\n",
    "\n",
    "Python is **case-sensitive**. This means that we need to have the strings in standard format in order to perform analysis on them. Thankfully, it’s quite simple to change a string’s case in Pandas.\n",
    "\n",
    "The names in our staff have both upper and lower case letters. Let’s convert all of them to lower case."
   ]
  },
  {
   "cell_type": "code",
   "execution_count": 1,
   "id": "79b33071-b854-4df1-8765-959b024331ef",
   "metadata": {},
   "outputs": [
    {
     "name": "stdout",
     "output_type": "stream",
     "text": [
      "               name        name_lower\n",
      "0          John Doe          john doe\n",
      "1          Jane Doe          jane doe\n",
      "2        Matt smith        matt smith\n",
      "3     Ashley Harris     ashley harris\n",
      "4  Jonathan targett  jonathan targett\n",
      "5         Hale Cole         hale cole\n"
     ]
    }
   ],
   "source": [
    "import pandas as pd\n",
    "\n",
    "staff = pd.read_csv(\"staff.csv\")\n",
    "\n",
    "staff[\"name_lower\"] = staff[\"name\"].str.lower()\n",
    "\n",
    "print(staff[[\"name\",\"name_lower\"]])"
   ]
  },
  {
   "cell_type": "markdown",
   "id": "58155a71-639c-4529-b52b-81cdadbe4fc3",
   "metadata": {},
   "source": [
    "The <font color='red'>lower</font> function under the <font color='red'>str</font> accessor converts all characters to lowercase. The <font color='red'>upper</font> function does the opposite.\n",
    "\n",
    "Another function that we can use is the <font color='red'>capitalize</font> function. It only converts the first letter to upper case. Let’s use it to capitalize the values in the department column."
   ]
  },
  {
   "cell_type": "code",
   "execution_count": 3,
   "id": "25dacd3b-8b2a-47b0-9c23-8e772dfaba89",
   "metadata": {},
   "outputs": [
    {
     "name": "stdout",
     "output_type": "stream",
     "text": [
      "0         Accounting\n",
      "1      Field quality\n",
      "2    Human resources\n",
      "3         Accounting\n",
      "4      Field quality\n",
      "5        Engineering\n",
      "Name: department, dtype: object\n",
      "0            John doe\n",
      "1            Jane doe\n",
      "2          Matt smith\n",
      "3       Ashley harris\n",
      "4    Jonathan targett\n",
      "5           Hale cole\n",
      "Name: name, dtype: object\n"
     ]
    }
   ],
   "source": [
    "import pandas as pd\n",
    "\n",
    "staff = pd.read_csv(\"staff.csv\")\n",
    "\n",
    "print(staff[\"department\"].str.capitalize())\n",
    "print(staff[\"name\"].str.capitalize())"
   ]
  },
  {
   "cell_type": "markdown",
   "id": "ef48c573-f847-43dd-a3d7-8b74ba33bd6d",
   "metadata": {},
   "source": [
    "In addition to converting the first letter to upper case, the <font color='red'>capitalize</font> function ensures all other letters are lowercase. Thus, if there’s an uppercase letter other than the first one, it’s converted to lowercase.\n",
    "\n",
    "Python also has built-in <font color='red'>upper</font> and <font color='red'>lower</font> functions. They work on a single string, though. We can’t use them to perform operations on an entire column of a <font color='red'>DataFrame</font>.\n",
    "\n",
    "For instance, we can apply the built-in <font color='red'>upper</font> function on the value in the first row of the department column."
   ]
  },
  {
   "cell_type": "code",
   "execution_count": 5,
   "id": "ff622eee-7656-4c4c-af5b-a45f83733247",
   "metadata": {},
   "outputs": [
    {
     "name": "stdout",
     "output_type": "stream",
     "text": [
      "ACCOUNTING\n"
     ]
    }
   ],
   "source": [
    "import pandas as pd\n",
    "\n",
    "sales = pd.read_csv(\"staff.csv\")\n",
    "\n",
    "print(sales[\"department\"][0].upper())"
   ]
  },
  {
   "cell_type": "markdown",
   "id": "338ddf8a-8699-402e-be7f-3d039397d428",
   "metadata": {},
   "source": [
    "When we work on tabular data (data in tables), it’s much more efficient to use the string methods under the str accessor. They allow us to perform operations on the entire column. Make sure to write <font color='red'>str`</font> before the name of the method."
   ]
  }
 ],
 "metadata": {
  "kernelspec": {
   "display_name": "Python 3 (ipykernel)",
   "language": "python",
   "name": "python3"
  },
  "language_info": {
   "codemirror_mode": {
    "name": "ipython",
    "version": 3
   },
   "file_extension": ".py",
   "mimetype": "text/x-python",
   "name": "python",
   "nbconvert_exporter": "python",
   "pygments_lexer": "ipython3",
   "version": "3.11.7"
  }
 },
 "nbformat": 4,
 "nbformat_minor": 5
}

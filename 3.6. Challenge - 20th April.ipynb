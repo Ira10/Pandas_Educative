{
 "cells": [
  {
   "cell_type": "markdown",
   "id": "a16f0271-c214-41f4-ab48-0822b9e4b581",
   "metadata": {},
   "source": [
    "# Filter Out the Values Below Average"
   ]
  },
  {
   "cell_type": "code",
   "execution_count": 1,
   "id": "6c92f7da-3eaf-441d-a1e3-f1c561efa506",
   "metadata": {},
   "outputs": [],
   "source": [
    "import pandas as pd\n",
    "\n",
    "sales = pd.read_csv(\"sales.csv\")\n",
    "\n",
    "def find_the_number_of_products():\n",
    "  try:\n",
    "    \n",
    "    average_price = sales[\"price\"].mean() # find the mean value of the price column\n",
    "    sales_filtered = sales[sales.price > average_price] # filter the products that have a price higher than the average price\n",
    "    number_of_products = sales_filtered[\"product_code\"].nunique() # find the number of unique product codes in sales_filtered\n",
    "    # \"\"\"\n",
    "    return number_of_products\n",
    "  except:\n",
    "    pass"
   ]
  },
  {
   "cell_type": "code",
   "execution_count": null,
   "id": "6f58b65a-7f2f-4ebf-8948-88ec6eee7181",
   "metadata": {},
   "outputs": [],
   "source": []
  }
 ],
 "metadata": {
  "kernelspec": {
   "display_name": "Python 3 (ipykernel)",
   "language": "python",
   "name": "python3"
  },
  "language_info": {
   "codemirror_mode": {
    "name": "ipython",
    "version": 3
   },
   "file_extension": ".py",
   "mimetype": "text/x-python",
   "name": "python",
   "nbconvert_exporter": "python",
   "pygments_lexer": "ipython3",
   "version": "3.11.7"
  }
 },
 "nbformat": 4,
 "nbformat_minor": 5
}

{
 "cells": [
  {
   "cell_type": "markdown",
   "id": "f3c8a6bf-e115-4058-9a5a-66a4397be479",
   "metadata": {},
   "source": [
    "# What is a pivot table?\n",
    "A pivot table is a summary table obtained by grouping and aggregating values of a more extensive table. Suppose we have an orders table that contains the day, order amount, and customer code for each order. A pivot table can be created to show the daily total order amounts. We need to group the rows by day and then aggregate by taking the sum.\n",
    "\n",
    "## Creating pivot tables with Pandas\n",
    "A pivot table is a great tool to summarize, sort, group, and aggregate tabular data. Thanks to the pivot_table function, we can easily create pivot tables with Pandas. It has several parameters that provide flexibility comparable to Excel.\n",
    "\n",
    "Let’s create a pivot table to see the weekly total sales quantities of the product groups in the grocery."
   ]
  },
  {
   "cell_type": "code",
   "execution_count": null,
   "id": "75fd2fe4-24c1-4555-9062-01f22f2be841",
   "metadata": {},
   "outputs": [],
   "source": [
    "import pandas as pd\n",
    "\n",
    "grocery = pd.read_csv(\"grocery.csv\")\n",
    "\n",
    "# Creating the week column\n",
    "grocery[\"sales_date\"] = grocery[\"sales_date\"].astype(\"datetime64[ns]\")\n",
    "grocery[\"week\"] = grocery[\"sales_date\"].dt.week\n",
    "\n",
    "# Creating the pivot table\n",
    "print(\n",
    "  pd.pivot_table(\n",
    "    data = grocery, \n",
    "    values = \"sales_quantity\", \n",
    "    index = \"product_group\", \n",
    "    columns = \"week\",\n",
    "    aggfunc = \"sum\"\n",
    "  )\n",
    ")"
   ]
  },
  {
   "cell_type": "markdown",
   "id": "81aac140-d16d-41c4-bec1-4c3778d9fe3d",
   "metadata": {},
   "source": [
    "To create informative and functional pivot tables, we need to learn what each parameter means.\n",
    "\n",
    "1. <font color='red'>data</font>: The name of the DataFrame\n",
    "2. <font color='red'>values</font>: The column that contains the values to be aggregated in the pivot table\n",
    "3. <font color='red'>index</font>: The rows of the pivot table\n",
    "4. <font color='red'>columns</font>: The columns of the pivot table\n",
    "5. <font color='red'>aggfunc</font>: The function used to aggregate the values"
   ]
  },
  {
   "cell_type": "markdown",
   "id": "59077c8d-dc2b-4b7e-98e2-5d30fe3b29ad",
   "metadata": {},
   "source": [
    "# Creating pivot tables with multiple aggregations\n",
    "We can perform multiple aggregations by passing multiple functions to the aggfunc parameter. Make sure to write them in a list, though. The following code snippet creates a pivot table that shows the average and standard deviation of weekly prices for each product group."
   ]
  },
  {
   "cell_type": "code",
   "execution_count": null,
   "id": "d9e1399c-c1a9-440a-af48-ad2047df1657",
   "metadata": {},
   "outputs": [],
   "source": [
    "import pandas as pd\n",
    "\n",
    "grocery = pd.read_csv(\"grocery.csv\")\n",
    "\n",
    "# Creating the week column\n",
    "grocery[\"sales_date\"] = grocery[\"sales_date\"].astype(\"datetime64[ns]\")\n",
    "grocery[\"week\"] = grocery[\"sales_date\"].dt.week\n",
    "\n",
    "# Creating the pivot table\n",
    "print(\n",
    "  pd.pivot_table(\n",
    "    data = grocery, \n",
    "    values = \"price\", \n",
    "    index = \"week\", \n",
    "    columns = \"product_group\",\n",
    "    aggfunc = [\"mean\",\"std\"]\n",
    "  )\n",
    ")"
   ]
  },
  {
   "cell_type": "markdown",
   "id": "284d12fe-fbfb-40f8-ad16-d7606c1af5b1",
   "metadata": {},
   "source": [
    "Unlike the previous example, we’ve used the week column in the index parameter so that the week numbers are shown as rows in the pivot table. We can also use multiple columns for the index and columns parameters.\n",
    "\n",
    "It’s possible to show column and row subtotals and the grand total as well. We can do so using the margins and margins_name parameters. The following example illustrates the use of these parameters."
   ]
  },
  {
   "cell_type": "code",
   "execution_count": null,
   "id": "72562951-d405-46ca-b8c6-04cf11118e66",
   "metadata": {},
   "outputs": [],
   "source": [
    "import pandas as pd\n",
    "\n",
    "grocery = pd.read_csv(\"grocery.csv\")\n",
    "\n",
    "# Creating the week column\n",
    "grocery[\"sales_date\"] = grocery[\"sales_date\"].astype(\"datetime64[ns]\")\n",
    "grocery[\"week\"] = grocery[\"sales_date\"].dt.week\n",
    "\n",
    "# Creating the pivot table\n",
    "print(\n",
    "  pd.pivot_table(\n",
    "    data = grocery, \n",
    "    values = \"sales_quantity\", \n",
    "    index = \"product_group\", \n",
    "    columns = \"week\",\n",
    "    aggfunc = \"sum\",\n",
    "    margins = True,\n",
    "    margins_name = \"Total\"\n",
    "  )\n",
    ")"
   ]
  },
  {
   "cell_type": "markdown",
   "id": "a865bdda-81c1-41fa-a6bd-4f39d38e566e",
   "metadata": {},
   "source": [
    "The pivot table is an efficient tool for exploratory data analysis because it simplifies the creation of informative summaries."
   ]
  }
 ],
 "metadata": {
  "kernelspec": {
   "display_name": "Python 3 (ipykernel)",
   "language": "python",
   "name": "python3"
  },
  "language_info": {
   "codemirror_mode": {
    "name": "ipython",
    "version": 3
   },
   "file_extension": ".py",
   "mimetype": "text/x-python",
   "name": "python",
   "nbconvert_exporter": "python",
   "pygments_lexer": "ipython3",
   "version": "3.11.7"
  }
 },
 "nbformat": 4,
 "nbformat_minor": 5
}

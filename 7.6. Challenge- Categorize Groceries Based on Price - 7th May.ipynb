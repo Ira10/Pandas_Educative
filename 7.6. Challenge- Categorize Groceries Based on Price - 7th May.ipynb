{
 "cells": [
  {
   "cell_type": "markdown",
   "id": "edd53b67-8fd6-4dbf-ba8b-4ea8b30a0668",
   "metadata": {},
   "source": [
    "# Problem statement\n",
    "The grocery contains the prices of groceries. Based on the prices, we need to divide the groceries into three categories and label them as cheap, mid-priced, or expensive.\n",
    "\n",
    "We’ll then calculate the average price for each category using the groupby function."
   ]
  },
  {
   "cell_type": "markdown",
   "id": "3e593fda-5ccd-464d-a138-a1429926cb46",
   "metadata": {},
   "source": [
    "# Solution\n",
    "Write your solution in the specified place and click on “test”.\n",
    "\n",
    "Make sure to uncomment the lines before execution.\n",
    "Name the column that shows the average prices as avg_price."
   ]
  },
  {
   "cell_type": "code",
   "execution_count": null,
   "id": "769f553e-5438-45e6-b5f7-afb139c60d5d",
   "metadata": {},
   "outputs": [],
   "source": [
    "import pandas as pd\n",
    "\n",
    "grocery = pd.read_csv(\"grocery.csv\")\n",
    "\n",
    "def find_avg_price():\n",
    "  try:\n",
    "    grocery[\"price_category\"] = pd.cut(\n",
    "      grocery[\"price\"],\n",
    "      bins = 3,\n",
    "      labels = [\"cheap\", \"mid-priced\", \"expensive\"]\n",
    "    )\n",
    "\n",
    "    avg_prices = grocery.groupby(\"price_category\").agg(\n",
    "      avg_price = (\"price\", \"mean\")\n",
    "    )\n",
    "\n",
    "    return list(avg_prices.index), list(avg_prices[\"avg_price\"].round(2))\n",
    "  except:\n",
    "    pass"
   ]
  }
 ],
 "metadata": {
  "kernelspec": {
   "display_name": "Python 3 (ipykernel)",
   "language": "python",
   "name": "python3"
  },
  "language_info": {
   "codemirror_mode": {
    "name": "ipython",
    "version": 3
   },
   "file_extension": ".py",
   "mimetype": "text/x-python",
   "name": "python",
   "nbconvert_exporter": "python",
   "pygments_lexer": "ipython3",
   "version": "3.11.7"
  }
 },
 "nbformat": 4,
 "nbformat_minor": 5
}

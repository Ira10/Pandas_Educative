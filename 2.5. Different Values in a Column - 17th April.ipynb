{
 "cells": [
  {
   "cell_type": "markdown",
   "metadata": {},
   "source": [
    "Learn how to find the distinct values in a column of a Pandas DataFrame."
   ]
  },
  {
   "cell_type": "markdown",
   "metadata": {},
   "source": [
    "# Using the <font color='brown'>unique</font> and <font color='brown'>nunique</font> functions\n",
    "\n",
    "\n",
    "The columns in a <font color='red'>DataFrame</font> might be categorical or continuous. The categorical columns may have many distinct but finite numbers of values, whereas continuous ones can take infinitely many values. In this sense, the columns can be considered as either discrete or categorical random variables.\n",
    "\n",
    "Checking the number of distinct values in a categorical column is an essential part of exploratory data analysis. The <font color='red'>nunique</font> function returns <u>the number of distinct values in a column</u> and the <font color='red'>unique</font> function actually <u>shows the unique values</u>. We can apply them to the product group column in the <font color='brown'>sales</font>.\n"
   ]
  },
  {
   "cell_type": "code",
   "execution_count": 2,
   "metadata": {},
   "outputs": [
    {
     "name": "stdout",
     "output_type": "stream",
     "text": [
      "   product_code product_group  stock_qty    cost    price  last_week_sales  \\\n",
      "0          4187           PG2        498  420.76   569.91               13   \n",
      "1          4195           PG2        473  545.64   712.41               16   \n",
      "2          4204           PG2        968  640.42   854.91               22   \n",
      "3          4219           PG2        241  869.69  1034.55               14   \n",
      "\n",
      "   last_month_sales  \n",
      "0                58  \n",
      "1                58  \n",
      "2                88  \n",
      "3                45  \n"
     ]
    }
   ],
   "source": [
    "import pandas as pd\n",
    "\n",
    "sales = pd.read_csv(\"sales.csv\")\n",
    "\n",
    "print(sales.head(4))"
   ]
  },
  {
   "cell_type": "code",
   "execution_count": 3,
   "metadata": {},
   "outputs": [
    {
     "name": "stdout",
     "output_type": "stream",
     "text": [
      "6\n",
      "['PG2' 'PG4' 'PG6' 'PG5' 'PG3' 'PG1']\n"
     ]
    }
   ],
   "source": [
    "print(sales[\"product_group\"].nunique())\n",
    "\n",
    "print(sales[\"product_group\"].unique())"
   ]
  },
  {
   "cell_type": "markdown",
   "metadata": {},
   "source": [
    "# The <font color='brown'>value_counts</font> function\n",
    "There are six distinct product groups. We might also need to check <u>how many rows each product group has</u>. The <font color='red'>value_counts</font> function returns all the distinct values in a column along with the number of their occurrences."
   ]
  },
  {
   "cell_type": "code",
   "execution_count": 4,
   "metadata": {},
   "outputs": [
    {
     "name": "stdout",
     "output_type": "stream",
     "text": [
      "product_group\n",
      "PG4    349\n",
      "PG5    255\n",
      "PG6    243\n",
      "PG2     75\n",
      "PG3     39\n",
      "PG1     39\n",
      "Name: count, dtype: int64\n"
     ]
    }
   ],
   "source": [
    "import pandas as pd\n",
    "\n",
    "sales = pd.read_csv(\"sales.csv\")\n",
    "\n",
    "print(sales[\"product_group\"].value_counts())"
   ]
  },
  {
   "cell_type": "markdown",
   "metadata": {},
   "source": [
    "The <font color = 'red'>value_counts</font> function is one of the most frequently used Pandas functions because it provides a quick way of exploring a categorical column.\n",
    "\n",
    "\n"
   ]
  }
 ],
 "metadata": {
  "kernelspec": {
   "display_name": "Python 3",
   "language": "python",
   "name": "python3"
  },
  "language_info": {
   "codemirror_mode": {
    "name": "ipython",
    "version": 3
   },
   "file_extension": ".py",
   "mimetype": "text/x-python",
   "name": "python",
   "nbconvert_exporter": "python",
   "pygments_lexer": "ipython3",
   "version": "3.11.7"
  }
 },
 "nbformat": 4,
 "nbformat_minor": 2
}

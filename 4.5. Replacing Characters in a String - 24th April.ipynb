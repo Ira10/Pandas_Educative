{
 "cells": [
  {
   "cell_type": "markdown",
   "id": "c4f88e8f-6374-48fc-af52-dd2dd8f4ad70",
   "metadata": {},
   "source": [
    "# The <font color='red'>replace</font> function\n",
    "\n",
    "The Pandas library provides highly flexible ways to manipulate strings. One of them is the <font color='red'>replace</font> function, under the <font color='red'>str</font> accessor. It can be used to replace a character or a sequence of characters in a string.\n",
    "\n",
    "For instance, **line 5** in the following code snippet replaces the <font color='red'>,</font> in the <font color='red'>city</font> column with <font color='red'>-</font>."
   ]
  },
  {
   "cell_type": "code",
   "execution_count": 10,
   "id": "df075a74-cf64-405f-b3ae-4050f62cc899",
   "metadata": {},
   "outputs": [
    {
     "name": "stdout",
     "output_type": "stream",
     "text": [
      "0        Houston- TX\n",
      "1       San Jose- CA\n",
      "2         Dallas- TX\n",
      "3          Miami- FL\n",
      "4    Santa Clara- CA\n",
      "5        Atlanta- GA\n",
      "Name: city, dtype: object\n"
     ]
    }
   ],
   "source": [
    "import pandas as pd\n",
    "\n",
    "staff = pd.read_csv(\"staff.csv\")\n",
    "\n",
    "print(staff[\"city\"].str.replace(\",\", \"-\"))"
   ]
  },
  {
   "cell_type": "code",
   "execution_count": 3,
   "id": "2f11dee1-cf45-4834-8e4c-114b86116b6a",
   "metadata": {},
   "outputs": [
    {
     "data": {
      "text/plain": [
       "0        Houston, TX\n",
       "1       San Jose, CA\n",
       "2         Dallas, TX\n",
       "3          Miami, FL\n",
       "4    Santa Clara, CA\n",
       "5        Atlanta, GA\n",
       "Name: city, dtype: object"
      ]
     },
     "execution_count": 3,
     "metadata": {},
     "output_type": "execute_result"
    }
   ],
   "source": [
    "staff['city']"
   ]
  },
  {
   "cell_type": "code",
   "execution_count": 6,
   "id": "1ab524a0-e002-4aeb-bd87-a4ec79e8c97b",
   "metadata": {},
   "outputs": [
    {
     "name": "stdout",
     "output_type": "stream",
     "text": [
      "0        Houston - TX\n",
      "1       San Jose - CA\n",
      "2         Dallas - TX\n",
      "3          Miami - FL\n",
      "4    Santa Clara - CA\n",
      "5        Atlanta - GA\n",
      "Name: city, dtype: object\n"
     ]
    }
   ],
   "source": [
    "print(staff[\"city\"].str.replace(\", \", \" - \"))"
   ]
  },
  {
   "cell_type": "markdown",
   "id": "0d49e3f1-0d77-45b6-9114-ecb3913ead75",
   "metadata": {},
   "source": [
    "In the previous example, we used the <font color='red'>replace</font> function under the <font color='red'>str</font> accessor. The Pandas library also provides the <font color='red'>DataFrame.replace</font> function that can be used to replace entire values. Let’s look at an example with this <font color='red'>replace</font> function as well. We’ll first create a state column and then replace the abbreviations with actual state names."
   ]
  },
  {
   "cell_type": "code",
   "execution_count": 7,
   "id": "1e662592-2468-4bd0-a918-a436bd60b12e",
   "metadata": {},
   "outputs": [
    {
     "name": "stdout",
     "output_type": "stream",
     "text": [
      "0         Texas\n",
      "1    California\n",
      "2         Texas\n",
      "3       Florida\n",
      "4    California\n",
      "5       Georgia\n",
      "Name: state, dtype: object\n"
     ]
    }
   ],
   "source": [
    "import pandas as pd\n",
    "\n",
    "staff = pd.read_csv(\"staff.csv\")\n",
    "\n",
    "# Create a state colum\n",
    "staff[\"state\"] = staff[\"city\"].str[-2:]\n",
    "\n",
    "# Replace state abbreviations with actual state names\n",
    "staff[\"state\"].replace(\n",
    "    {\"TX\": \"Texas\", \"CA\": \"California\", \"FL\": \"Florida\", \"GA\": \"Georgia\"},\n",
    "    inplace = True\n",
    ")\n",
    "\n",
    "print(staff[\"state\"])"
   ]
  },
  {
   "cell_type": "code",
   "execution_count": 12,
   "id": "d35fcea1-59a8-4fc0-98db-5240dcef36f5",
   "metadata": {},
   "outputs": [
    {
     "data": {
      "text/html": [
       "<div>\n",
       "<style scoped>\n",
       "    .dataframe tbody tr th:only-of-type {\n",
       "        vertical-align: middle;\n",
       "    }\n",
       "\n",
       "    .dataframe tbody tr th {\n",
       "        vertical-align: top;\n",
       "    }\n",
       "\n",
       "    .dataframe thead th {\n",
       "        text-align: right;\n",
       "    }\n",
       "</style>\n",
       "<table border=\"1\" class=\"dataframe\">\n",
       "  <thead>\n",
       "    <tr style=\"text-align: right;\">\n",
       "      <th></th>\n",
       "      <th>name</th>\n",
       "      <th>city</th>\n",
       "      <th>date_of_birth</th>\n",
       "      <th>start_date</th>\n",
       "      <th>salary</th>\n",
       "      <th>department</th>\n",
       "    </tr>\n",
       "  </thead>\n",
       "  <tbody>\n",
       "    <tr>\n",
       "      <th>0</th>\n",
       "      <td>John Doe</td>\n",
       "      <td>Houston, TX</td>\n",
       "      <td>1998-11-04</td>\n",
       "      <td>2018-08-11</td>\n",
       "      <td>$65,000</td>\n",
       "      <td>Accounting</td>\n",
       "    </tr>\n",
       "    <tr>\n",
       "      <th>1</th>\n",
       "      <td>Jane Doe</td>\n",
       "      <td>San Jose, CA</td>\n",
       "      <td>1995-08-05</td>\n",
       "      <td>2017-08-24</td>\n",
       "      <td>$70,000</td>\n",
       "      <td>Field Quality</td>\n",
       "    </tr>\n",
       "    <tr>\n",
       "      <th>2</th>\n",
       "      <td>Matt smith</td>\n",
       "      <td>Dallas, TX</td>\n",
       "      <td>1996-11-25</td>\n",
       "      <td>2020-04-16</td>\n",
       "      <td>$58,500</td>\n",
       "      <td>human resources</td>\n",
       "    </tr>\n",
       "    <tr>\n",
       "      <th>3</th>\n",
       "      <td>Ashley Harris</td>\n",
       "      <td>Miami, FL</td>\n",
       "      <td>1995-01-08</td>\n",
       "      <td>2021-02-11</td>\n",
       "      <td>$49,500</td>\n",
       "      <td>accounting</td>\n",
       "    </tr>\n",
       "    <tr>\n",
       "      <th>4</th>\n",
       "      <td>Jonathan targett</td>\n",
       "      <td>Santa Clara, CA</td>\n",
       "      <td>1998-08-14</td>\n",
       "      <td>2020-09-01</td>\n",
       "      <td>$62,000</td>\n",
       "      <td>field quality</td>\n",
       "    </tr>\n",
       "    <tr>\n",
       "      <th>5</th>\n",
       "      <td>Hale Cole</td>\n",
       "      <td>Atlanta, GA</td>\n",
       "      <td>2000-10-24</td>\n",
       "      <td>2021-10-20</td>\n",
       "      <td>$54,500</td>\n",
       "      <td>engineering</td>\n",
       "    </tr>\n",
       "  </tbody>\n",
       "</table>\n",
       "</div>"
      ],
      "text/plain": [
       "               name             city date_of_birth  start_date   salary  \\\n",
       "0          John Doe      Houston, TX    1998-11-04  2018-08-11  $65,000   \n",
       "1          Jane Doe     San Jose, CA    1995-08-05  2017-08-24  $70,000   \n",
       "2        Matt smith       Dallas, TX    1996-11-25  2020-04-16  $58,500   \n",
       "3     Ashley Harris        Miami, FL    1995-01-08  2021-02-11  $49,500   \n",
       "4  Jonathan targett  Santa Clara, CA    1998-08-14  2020-09-01  $62,000   \n",
       "5         Hale Cole      Atlanta, GA    2000-10-24  2021-10-20  $54,500   \n",
       "\n",
       "        department  \n",
       "0       Accounting  \n",
       "1    Field Quality  \n",
       "2  human resources  \n",
       "3       accounting  \n",
       "4    field quality  \n",
       "5      engineering  "
      ]
     },
     "execution_count": 12,
     "metadata": {},
     "output_type": "execute_result"
    }
   ],
   "source": [
    "staff"
   ]
  },
  {
   "cell_type": "code",
   "execution_count": 14,
   "id": "4b49175e-966a-4556-a94a-2bd1592fa36a",
   "metadata": {},
   "outputs": [
    {
     "data": {
      "text/plain": [
       "0    TX\n",
       "1    CA\n",
       "2    TX\n",
       "3    FL\n",
       "4    CA\n",
       "5    GA\n",
       "Name: state, dtype: object"
      ]
     },
     "execution_count": 14,
     "metadata": {},
     "output_type": "execute_result"
    }
   ],
   "source": [
    "staff[\"state\"] = staff[\"city\"].str[-2:]\n",
    "staff[\"state\"]"
   ]
  },
  {
   "cell_type": "markdown",
   "id": "7bf90138-7255-4adf-a598-bc6e863640ba",
   "metadata": {},
   "source": [
    "The <font color='red'>inplace</font> parameter is set to <font color='red'>True</font> to save changes in the <font color='red'>DataFrame</font>.\n",
    "\n",
    "It’s important to emphasize the difference between <font color='red'>str.replace</font> and <font color='red'>DataFrame.replace</font>:\n",
    "\n",
    "1. **<font color='red'>str.replace</font>** can be used to replace a part of a string. We can replace one character, multiple characters, or the entire string.\n",
    "2. **<font color='red'>DataFrame.replace</font>** can be used to replace the entire value. We can also use this function to replace values with other data types such as integer and boolean."
   ]
  }
 ],
 "metadata": {
  "kernelspec": {
   "display_name": "Python 3 (ipykernel)",
   "language": "python",
   "name": "python3"
  },
  "language_info": {
   "codemirror_mode": {
    "name": "ipython",
    "version": 3
   },
   "file_extension": ".py",
   "mimetype": "text/x-python",
   "name": "python",
   "nbconvert_exporter": "python",
   "pygments_lexer": "ipython3",
   "version": "3.11.7"
  }
 },
 "nbformat": 4,
 "nbformat_minor": 5
}

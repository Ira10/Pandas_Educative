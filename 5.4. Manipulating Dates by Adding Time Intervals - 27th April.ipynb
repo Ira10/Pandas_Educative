{
 "cells": [
  {
   "cell_type": "markdown",
   "metadata": {},
   "source": [
    "# The <font color='red'>DateOffset</font> function\n",
    "\n",
    "One Pandas function we can use to <u>add or subtract dates and times</u> is <font color='red'>DateOffset</font>. It can be used with both dates and times. We only need to specify the unit and quantity to be added or subtracted. Consider a case where we want to give a raise to our employees one year after they’re hired. In the staff, we can create a column called <font color='red'>raise_date</font> by adding one year to the <font color='red'>start_date</font> column.\n"
   ]
  },
  {
   "cell_type": "code",
   "execution_count": 6,
   "metadata": {},
   "outputs": [
    {
     "name": "stdout",
     "output_type": "stream",
     "text": [
      "  start_date raise_date_from_start\n",
      "0 2018-08-11            2019-08-11\n",
      "1 2017-08-24            2018-08-24\n",
      "2 2020-04-16            2021-04-16\n",
      "3 2021-02-11            2022-02-11\n",
      "4 2020-09-01            2021-09-01\n"
     ]
    }
   ],
   "source": [
    "import pandas as pd\n",
    "\n",
    "# create the DataFrame\n",
    "staff = pd.read_csv(\"staff.csv\")\n",
    "\n",
    "# change the date type\n",
    "staff = staff.astype({\n",
    "    \"date_of_birth\": \"datetime64[ns]\",\n",
    "    \"start_date\": \"datetime64[ns]\"\n",
    "})\n",
    "\n",
    "# create raise_date column\n",
    "staff[\"raise_date_from_start\"] = staff[\"start_date\"] + pd.DateOffset(years=1)\n",
    "\n",
    "print(staff[[\"start_date\",\"raise_date_from_start\"]].head())"
   ]
  },
  {
   "cell_type": "code",
   "execution_count": 7,
   "metadata": {},
   "outputs": [
    {
     "data": {
      "text/html": [
       "<div>\n",
       "<style scoped>\n",
       "    .dataframe tbody tr th:only-of-type {\n",
       "        vertical-align: middle;\n",
       "    }\n",
       "\n",
       "    .dataframe tbody tr th {\n",
       "        vertical-align: top;\n",
       "    }\n",
       "\n",
       "    .dataframe thead th {\n",
       "        text-align: right;\n",
       "    }\n",
       "</style>\n",
       "<table border=\"1\" class=\"dataframe\">\n",
       "  <thead>\n",
       "    <tr style=\"text-align: right;\">\n",
       "      <th></th>\n",
       "      <th>name</th>\n",
       "      <th>city</th>\n",
       "      <th>date_of_birth</th>\n",
       "      <th>start_date</th>\n",
       "      <th>salary</th>\n",
       "      <th>department</th>\n",
       "      <th>raise_date_from_start</th>\n",
       "    </tr>\n",
       "  </thead>\n",
       "  <tbody>\n",
       "    <tr>\n",
       "      <th>0</th>\n",
       "      <td>John Doe</td>\n",
       "      <td>Houston, TX</td>\n",
       "      <td>1998-11-04</td>\n",
       "      <td>2018-08-11</td>\n",
       "      <td>$65,000</td>\n",
       "      <td>Accounting</td>\n",
       "      <td>2019-08-11</td>\n",
       "    </tr>\n",
       "    <tr>\n",
       "      <th>1</th>\n",
       "      <td>Jane Doe</td>\n",
       "      <td>San Jose, CA</td>\n",
       "      <td>1995-08-05</td>\n",
       "      <td>2017-08-24</td>\n",
       "      <td>$70,000</td>\n",
       "      <td>Field Quality</td>\n",
       "      <td>2018-08-24</td>\n",
       "    </tr>\n",
       "    <tr>\n",
       "      <th>2</th>\n",
       "      <td>Matt smith</td>\n",
       "      <td>Dallas, TX</td>\n",
       "      <td>1996-11-25</td>\n",
       "      <td>2020-04-16</td>\n",
       "      <td>$58,500</td>\n",
       "      <td>human resources</td>\n",
       "      <td>2021-04-16</td>\n",
       "    </tr>\n",
       "    <tr>\n",
       "      <th>3</th>\n",
       "      <td>Ashley Harris</td>\n",
       "      <td>Miami, FL</td>\n",
       "      <td>1995-01-08</td>\n",
       "      <td>2021-02-11</td>\n",
       "      <td>$49,500</td>\n",
       "      <td>accounting</td>\n",
       "      <td>2022-02-11</td>\n",
       "    </tr>\n",
       "    <tr>\n",
       "      <th>4</th>\n",
       "      <td>Jonathan targett</td>\n",
       "      <td>Santa Clara, CA</td>\n",
       "      <td>1998-08-14</td>\n",
       "      <td>2020-09-01</td>\n",
       "      <td>$62,000</td>\n",
       "      <td>field quality</td>\n",
       "      <td>2021-09-01</td>\n",
       "    </tr>\n",
       "    <tr>\n",
       "      <th>5</th>\n",
       "      <td>Hale Cole</td>\n",
       "      <td>Atlanta, GA</td>\n",
       "      <td>2000-10-24</td>\n",
       "      <td>2021-10-20</td>\n",
       "      <td>$54,500</td>\n",
       "      <td>engineering</td>\n",
       "      <td>2022-10-20</td>\n",
       "    </tr>\n",
       "  </tbody>\n",
       "</table>\n",
       "</div>"
      ],
      "text/plain": [
       "               name             city date_of_birth start_date   salary  \\\n",
       "0          John Doe      Houston, TX    1998-11-04 2018-08-11  $65,000   \n",
       "1          Jane Doe     San Jose, CA    1995-08-05 2017-08-24  $70,000   \n",
       "2        Matt smith       Dallas, TX    1996-11-25 2020-04-16  $58,500   \n",
       "3     Ashley Harris        Miami, FL    1995-01-08 2021-02-11  $49,500   \n",
       "4  Jonathan targett  Santa Clara, CA    1998-08-14 2020-09-01  $62,000   \n",
       "5         Hale Cole      Atlanta, GA    2000-10-24 2021-10-20  $54,500   \n",
       "\n",
       "        department raise_date_from_start  \n",
       "0       Accounting            2019-08-11  \n",
       "1    Field Quality            2018-08-24  \n",
       "2  human resources            2021-04-16  \n",
       "3       accounting            2022-02-11  \n",
       "4    field quality            2021-09-01  \n",
       "5      engineering            2022-10-20  "
      ]
     },
     "execution_count": 7,
     "metadata": {},
     "output_type": "execute_result"
    }
   ],
   "source": [
    "staff"
   ]
  },
  {
   "cell_type": "markdown",
   "metadata": {},
   "source": [
    "The <font color='red'>DateOffset</font> function is quite simple. We only need to adjust the unit and quantity. For instance, the following line of code adds six months to the <font color='red'>start_date</font> column.\n",
    "\n"
   ]
  },
  {
   "cell_type": "code",
   "execution_count": 5,
   "metadata": {},
   "outputs": [
    {
     "name": "stdout",
     "output_type": "stream",
     "text": [
      "0   2019-02-11\n",
      "1   2018-02-24\n",
      "2   2020-10-16\n",
      "3   2021-08-11\n",
      "4   2021-03-01\n",
      "5   2022-04-20\n",
      "Name: start_date, dtype: datetime64[ns]\n"
     ]
    }
   ],
   "source": [
    "print(staff[\"start_date\"] + pd.DateOffset(months=6))\n"
   ]
  },
  {
   "cell_type": "markdown",
   "metadata": {},
   "source": [
    "The units that can be used in the <font color='red'>DataOffset</font> function are:\n",
    "\n",
    "1. <font color='red'>years</font>\n",
    "2. <font color='red'>months</font>\n",
    "3. <font color='red'>weeks</font>\n",
    "4. <font color='red'>days</font>\n",
    "5. <font color='red'>hours</font>\n",
    "6. <font color='red'>minutes</font>\n",
    "7. <font color='red'>seconds</font>\n",
    "8. <font color='red'>microseconds</font>\n",
    "9. <font color='red'>nanoseconds</font>\n",
    "\n",
    "We have two options for subtraction instead of addition. One is to change the <font color='red'>+</font> to <font color='red'>-</font> and the other is to use a negative quantity inside the function. Let’s create a <font color='red'>Timestamp</font> and subtract two hours from it using both methods."
   ]
  },
  {
   "cell_type": "code",
   "execution_count": 11,
   "metadata": {},
   "outputs": [
    {
     "name": "stdout",
     "output_type": "stream",
     "text": [
      "The first method\n",
      "2021-12-14 14:50:00\n",
      "\n",
      "The second method\n",
      "2021-12-14 14:50:00\n",
      "\n",
      "2021-12-14 16:48:00\n"
     ]
    }
   ],
   "source": [
    "import pandas as pd\n",
    "\n",
    "mytime = pd.Timestamp(\"2021-12-14 16:50:00\")\n",
    "\n",
    "print(\"The first method\")\n",
    "print(mytime + pd.DateOffset(hours=-2))\n",
    "\n",
    "print(\"\\nThe second method\")\n",
    "print(mytime - pd.DateOffset(hours=2))\n",
    "\n",
    "print(\"\")\n",
    "print(mytime - pd.DateOffset(minutes=2))"
   ]
  },
  {
   "cell_type": "markdown",
   "metadata": {},
   "source": [
    "# The <font color='red'>Timedelta</font> function\n",
    "\n",
    "Another option to add and subtract dates and times is the <font color='red'>Timedelta</font> function. Note that the Timed<font color='red'>Timedelta</font>elta function doesn’t support <font color='red'>year</font> and <font color='red'>month</font> units anymore, but we can use it with other durations.\n",
    "\n",
    "Its use is similar to the <font color='red'>DateOffset</font> function, but the parameters are set differently. The  <font color='red'>value</font> parameter is used to specify the number of units to be added or subtracted. The  <font color='red'>unit</font> parameter defines the unit of time, such as hour and minute. The following values can be used with the  <font color='red'>unit</font> parameter:\n",
    "\n",
    "1.  <font color='red'>W</font> and  <font color='red'>w</font> represent a week\n",
    "2.  <font color='red'>D</font> and  <font color='red'>d</font> represent a day\n",
    "3.  <font color='red'>H</font> and  <font color='red'>h</font> represent an hour\n",
    "4.  <font color='red'>T</font> and  <font color='red'>t</font> represent a minute\n",
    "5.  <font color='red'>S</font> and  <font color='red'>s</font> represent a second\n",
    "6.  <font color='red'>L</font> and  <font color='red'>l</font> represent a millisecond\n",
    "7.  <font color='red'>U</font> and  <font color='red'>u</font> represent a microsecond\n",
    "8.  <font color='red'>N</font> and  <font color='red'>n</font> represent a nanosecond\n",
    "\n",
    "Let’s try an example that adds 12 weeks to the  <font color='red'>start_date</font> column in the staff with the  <font color='red'>Timedelta</font> function."
   ]
  },
  {
   "cell_type": "code",
   "execution_count": 13,
   "metadata": {},
   "outputs": [
    {
     "name": "stdout",
     "output_type": "stream",
     "text": [
      "0   2018-11-03\n",
      "1   2017-11-16\n",
      "2   2020-07-09\n",
      "3   2021-05-06\n",
      "4   2020-11-24\n",
      "5   2022-01-12\n",
      "Name: start_date, dtype: datetime64[ns]\n"
     ]
    }
   ],
   "source": [
    "import pandas as pd\n",
    "\n",
    "# create the DataFrame\n",
    "staff = pd.read_csv(\"staff.csv\")\n",
    "\n",
    "# change the date type\n",
    "staff = staff.astype({\n",
    "    \"date_of_birth\": \"datetime64[ns]\",\n",
    "    \"start_date\": \"datetime64[ns]\"\n",
    "})\n",
    "\n",
    "# add 12 weeks\n",
    "print(staff[\"start_date\"] + pd.Timedelta(value=12, unit=\"W\"))"
   ]
  },
  {
   "cell_type": "markdown",
   "metadata": {},
   "source": [
    "One nice feature of the <font color='red'>Timedelta</font> function is that it accepts strings for specifying the duration to be added or subtracted. To use this format, both the value and unit are written as a single string. We simply need to write the unit, as with the unit parameter. Let’s do the same example as above but with a string.\n",
    "\n"
   ]
  },
  {
   "cell_type": "code",
   "execution_count": 14,
   "metadata": {},
   "outputs": [
    {
     "name": "stdout",
     "output_type": "stream",
     "text": [
      "0   2018-11-03\n",
      "1   2017-11-16\n",
      "2   2020-07-09\n",
      "3   2021-05-06\n",
      "4   2020-11-24\n",
      "5   2022-01-12\n",
      "Name: start_date, dtype: datetime64[ns]\n"
     ]
    }
   ],
   "source": [
    "import pandas as pd\n",
    "\n",
    "# create the DataFrame\n",
    "staff = pd.read_csv(\"staff.csv\")\n",
    "\n",
    "# change the date type\n",
    "staff = staff.astype({\n",
    "    \"date_of_birth\": \"datetime64[ns]\",\n",
    "    \"start_date\": \"datetime64[ns]\"\n",
    "})\n",
    "\n",
    "# add 12 weeks\n",
    "print(staff[\"start_date\"] + pd.Timedelta(\"12 W\"))"
   ]
  },
  {
   "cell_type": "markdown",
   "metadata": {},
   "source": [
    "To subtract a date or time value using the Timestamp function, we can either change the + to - or use a negative quantity inside the function.\n",
    "\n",
    "\n"
   ]
  }
 ],
 "metadata": {
  "kernelspec": {
   "display_name": "Python 3",
   "language": "python",
   "name": "python3"
  },
  "language_info": {
   "codemirror_mode": {
    "name": "ipython",
    "version": 3
   },
   "file_extension": ".py",
   "mimetype": "text/x-python",
   "name": "python",
   "nbconvert_exporter": "python",
   "pygments_lexer": "ipython3",
   "version": "3.11.7"
  }
 },
 "nbformat": 4,
 "nbformat_minor": 2
}

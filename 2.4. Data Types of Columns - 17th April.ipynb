{
 "cells": [
  {
   "cell_type": "markdown",
   "metadata": {},
   "source": [
    "# Data types\n",
    "Data doesn’t always come in plain numbers. In addition to <u>integers and floats</u>, we need to deal with <u>strings (textual data), dates, times, and boolean (True and False) data types</u>.\n",
    "\n",
    "It’s important to use proper data types for two main reasons:\n",
    "\n",
    "1. Data structures of different data types take up a different amount of memory space. Having proper data types saves us from wasting memory.\n",
    "\n",
    "2. Some methods and functions can also be used with certain data types. For instance, we need to store data that contains date and time in the data structures of datetime data type to use it.\n",
    "\n",
    "Let’s first check the data types in the sales. Then, we’ll see how to change data types of columns."
   ]
  },
  {
   "cell_type": "code",
   "execution_count": 1,
   "metadata": {},
   "outputs": [
    {
     "name": "stdout",
     "output_type": "stream",
     "text": [
      "product_code          int64\n",
      "product_group        object\n",
      "stock_qty             int64\n",
      "cost                float64\n",
      "price               float64\n",
      "last_week_sales       int64\n",
      "last_month_sales      int64\n",
      "dtype: object\n"
     ]
    }
   ],
   "source": [
    "import pandas as pd\n",
    "\n",
    "sales = pd.read_csv(\"sales.csv\")\n",
    "\n",
    "print(sales.dtypes)"
   ]
  },
  {
   "cell_type": "markdown",
   "metadata": {},
   "source": [
    "The <font color='red'>dtypes</font> method returns the data type of all columns.\n",
    "\n"
   ]
  },
  {
   "cell_type": "markdown",
   "metadata": {},
   "source": [
    "# Changing the data type\n",
    "\n",
    "Let’s start by checking the column names in a <font color='red'>DataFrame</font>. One option is to display the first five rows of the DataFrame by using the <font color='red'>head</font> method. A more practical approach is to use the <font color='red'>columns</font> method. It returns the columns as an index, but we can convert it to a list with the help of the <font color='red'>list</font> function."
   ]
  },
  {
   "cell_type": "code",
   "execution_count": 2,
   "metadata": {},
   "outputs": [
    {
     "name": "stdout",
     "output_type": "stream",
     "text": [
      "As index:\n",
      "Index(['product_code', 'product_group', 'stock_qty', 'cost', 'price',\n",
      "       'last_week_sales', 'last_month_sales'],\n",
      "      dtype='object')\n",
      "As list:\n",
      "['product_code', 'product_group', 'stock_qty', 'cost', 'price', 'last_week_sales', 'last_month_sales']\n"
     ]
    }
   ],
   "source": [
    "import pandas as pd\n",
    "\n",
    "sales = pd.read_csv(\"sales.csv\")\n",
    "\n",
    "print(\"As index:\")\n",
    "print(sales.columns)\n",
    "\n",
    "print(\"As list:\")\n",
    "print(list(sales.columns))"
   ]
  },
  {
   "cell_type": "markdown",
   "metadata": {},
   "source": [
    "The data type of the stock quantity column is an integer. Suppose we have some products whose stock amount can be a decimal point number. For instance, we might have 125.2 kg of rice.\n",
    "\n",
    "We can use the <font color='red'>astpye</font> function to change the data types of columns."
   ]
  },
  {
   "cell_type": "code",
   "execution_count": 4,
   "metadata": {},
   "outputs": [
    {
     "name": "stdout",
     "output_type": "stream",
     "text": [
      "product_code          int64\n",
      "product_group        object\n",
      "stock_qty             int64\n",
      "cost                float64\n",
      "price               float64\n",
      "last_week_sales       int64\n",
      "last_month_sales      int64\n",
      "dtype: object\n"
     ]
    }
   ],
   "source": [
    "import pandas as pd\n",
    "\n",
    "sales = pd.read_csv(\"sales.csv\")\n",
    "\n",
    "print(sales.dtypes)"
   ]
  },
  {
   "cell_type": "code",
   "execution_count": 5,
   "metadata": {},
   "outputs": [
    {
     "name": "stdout",
     "output_type": "stream",
     "text": [
      "product_code          int64\n",
      "product_group        object\n",
      "stock_qty           float64\n",
      "cost                float64\n",
      "price               float64\n",
      "last_week_sales       int64\n",
      "last_month_sales      int64\n",
      "dtype: object\n"
     ]
    }
   ],
   "source": [
    "sales[\"stock_qty\"] = sales[\"stock_qty\"].astype(\"float\")\n",
    "\n",
    "print(sales.dtypes)"
   ]
  },
  {
   "cell_type": "markdown",
   "metadata": {},
   "source": [
    "The <font color='red'>astype</font> function also accepts a <u>dictionary</u>, so we can change the data type of multiple columns in a single operation. The dictionary keys indicate that the column name and values are the new data types.\n",
    "\n",
    "Let’s change the data type of both the “stock quantity” and “last week’s sales columns”."
   ]
  },
  {
   "cell_type": "code",
   "execution_count": 6,
   "metadata": {},
   "outputs": [
    {
     "name": "stdout",
     "output_type": "stream",
     "text": [
      "product_code          int64\n",
      "product_group        object\n",
      "stock_qty           float64\n",
      "cost                float64\n",
      "price               float64\n",
      "last_week_sales     float64\n",
      "last_month_sales      int64\n",
      "dtype: object\n"
     ]
    }
   ],
   "source": [
    "import pandas as pd\n",
    "\n",
    "sales = pd.read_csv(\"sales.csv\")\n",
    "\n",
    "sales = sales.astype({\n",
    "  \"stock_qty\": \"float\",\n",
    "  \"last_week_sales\": \"float\"\n",
    "})\n",
    "\n",
    "print(sales.dtypes)"
   ]
  },
  {
   "cell_type": "markdown",
   "metadata": {},
   "source": [
    "Both columns now have the float data type.\n",
    "\n",
    "\n"
   ]
  }
 ],
 "metadata": {
  "kernelspec": {
   "display_name": "Python 3",
   "language": "python",
   "name": "python3"
  },
  "language_info": {
   "codemirror_mode": {
    "name": "ipython",
    "version": 3
   },
   "file_extension": ".py",
   "mimetype": "text/x-python",
   "name": "python",
   "nbconvert_exporter": "python",
   "pygments_lexer": "ipython3",
   "version": "3.11.7"
  }
 },
 "nbformat": 4,
 "nbformat_minor": 2
}

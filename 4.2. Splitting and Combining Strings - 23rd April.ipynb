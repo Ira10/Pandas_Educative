{
 "cells": [
  {
   "cell_type": "markdown",
   "id": "cd9ca858-f54a-4d12-89e5-eba05f3a1910",
   "metadata": {},
   "source": [
    "# Splitting\n",
    "\n",
    "In some cases, strings contain several pieces of information so we might need to split a string in order to access one piece of information.\n",
    "\n",
    "In staff, the name column contains both the first and last names. We can easily extract the first or last names from the name column by using the split function.\n",
    "\n",
    "The Pandas <font color='red'>split</font> function is available under the <font color='red'>str</font> accessor. <u>It splits a string at the position of the given character and then returns a list of all parts.</u>\n",
    "\n",
    "Let’s look at a simple example first. The following code snippet splits the name column at the space character."
   ]
  },
  {
   "cell_type": "code",
   "execution_count": 1,
   "id": "c6e71aa7-58c8-4f07-8c42-995ccd3c07d9",
   "metadata": {},
   "outputs": [
    {
     "name": "stdout",
     "output_type": "stream",
     "text": [
      "0            [John, Doe]\n",
      "1            [Jane, Doe]\n",
      "2          [Matt, smith]\n",
      "3       [Ashley, Harris]\n",
      "4    [Jonathan, targett]\n",
      "5           [Hale, Cole]\n",
      "Name: name, dtype: object\n"
     ]
    }
   ],
   "source": [
    "import pandas as pd\n",
    "\n",
    "staff = pd.read_csv(\"staff.csv\")\n",
    "\n",
    "print(staff[\"name\"].str.split(\" \"))"
   ]
  },
  {
   "cell_type": "code",
   "execution_count": 3,
   "id": "4087264a-d77e-423c-9d1e-8deba6d39352",
   "metadata": {},
   "outputs": [
    {
     "data": {
      "text/plain": [
       "0            John Doe\n",
       "1            Jane Doe\n",
       "2          Matt smith\n",
       "3       Ashley Harris\n",
       "4    Jonathan targett\n",
       "5           Hale Cole\n",
       "Name: name, dtype: object"
      ]
     },
     "execution_count": 3,
     "metadata": {},
     "output_type": "execute_result"
    }
   ],
   "source": [
    "staff[\"name\"]"
   ]
  },
  {
   "cell_type": "code",
   "execution_count": 5,
   "id": "d11b9de8-0f50-4d3e-9d5a-18536bc75da2",
   "metadata": {},
   "outputs": [
    {
     "data": {
      "text/plain": [
       "0             [Joh,  Doe]\n",
       "1             [Ja, e Doe]\n",
       "2            [Matt smith]\n",
       "3         [Ashley Harris]\n",
       "4    [Jo, atha,  targett]\n",
       "5             [Hale Cole]\n",
       "Name: name, dtype: object"
      ]
     },
     "execution_count": 5,
     "metadata": {},
     "output_type": "execute_result"
    }
   ],
   "source": [
    "staff[\"name\"].str.split(\"n\")"
   ]
  },
  {
   "cell_type": "markdown",
   "id": "2b13e3d1-1a5f-4946-8f63-d91537813430",
   "metadata": {},
   "source": [
    "It’s not enough to merely split a string. We also need to extract the part we need.\n",
    "\n",
    "The <font color='red'>expand</font> parameter of the <font color='red'>split</font> function can be used to create separate columns after splitting. We can then select the column we need.\n",
    "\n",
    "Let’s create a column that only contains the last names."
   ]
  },
  {
   "cell_type": "code",
   "execution_count": 8,
   "id": "da4c4a22-1207-441f-9c9e-37933dfe5bf4",
   "metadata": {},
   "outputs": [
    {
     "name": "stdout",
     "output_type": "stream",
     "text": [
      "               name last_name\n",
      "0          John Doe       Doe\n",
      "1          Jane Doe       Doe\n",
      "2        Matt smith     smith\n",
      "3     Ashley Harris    Harris\n",
      "4  Jonathan targett   targett\n",
      "5         Hale Cole      Cole\n"
     ]
    }
   ],
   "source": [
    "import pandas as pd\n",
    "\n",
    "staff = pd.read_csv(\"staff.csv\")\n",
    "\n",
    "staff[\"last_name\"] = staff[\"name\"].str.split(\" \", expand=True)[1]\n",
    "\n",
    "print(staff[[\"name\",\"last_name\"]])"
   ]
  },
  {
   "cell_type": "markdown",
   "id": "43edaa73-ef26-472d-afec-a4027c31621d",
   "metadata": {},
   "source": [
    "# Combining\n",
    "\n",
    "Just like we split strings, we can combine multiple strings into a single one.\n",
    "\n",
    "The **+** operator can be used to combine strings. Let’s review a quick example."
   ]
  },
  {
   "cell_type": "code",
   "execution_count": 9,
   "id": "4e87c874-996d-49a2-904f-73fce2eda35c",
   "metadata": {},
   "outputs": [
    {
     "name": "stdout",
     "output_type": "stream",
     "text": [
      "0               John Doe - Accounting\n",
      "1            Jane Doe - Field Quality\n",
      "2        Matt smith - human resources\n",
      "3          Ashley Harris - accounting\n",
      "4    Jonathan targett - field quality\n",
      "5             Hale Cole - engineering\n",
      "dtype: object\n"
     ]
    }
   ],
   "source": [
    "import pandas as pd\n",
    "\n",
    "staff = pd.read_csv(\"staff.csv\")\n",
    "\n",
    "print(staff[\"name\"] + \" - \" + staff[\"department\"])"
   ]
  },
  {
   "cell_type": "markdown",
   "id": "92f20a74-828a-40a7-ab04-13ac943ca9b6",
   "metadata": {},
   "source": [
    "We have just learned how to split and combine strings in Pandas. These operations are frequently used because strings or textual data might contain multiple pieces of information."
   ]
  }
 ],
 "metadata": {
  "kernelspec": {
   "display_name": "Python 3 (ipykernel)",
   "language": "python",
   "name": "python3"
  },
  "language_info": {
   "codemirror_mode": {
    "name": "ipython",
    "version": 3
   },
   "file_extension": ".py",
   "mimetype": "text/x-python",
   "name": "python",
   "nbconvert_exporter": "python",
   "pygments_lexer": "ipython3",
   "version": "3.11.7"
  }
 },
 "nbformat": 4,
 "nbformat_minor": 5
}

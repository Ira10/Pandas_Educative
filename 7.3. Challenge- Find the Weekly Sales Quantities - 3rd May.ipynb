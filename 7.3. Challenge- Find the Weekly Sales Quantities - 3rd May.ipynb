{
 "cells": [
  {
   "cell_type": "markdown",
   "id": "415c944d-436c-4ce2-a445-39cc2125909e",
   "metadata": {},
   "source": [
    "# Problem statement\n",
    "This challenge involves using some techniques that we’ve learned in previous lessons. The objective is to find the total sales in each week and sort the results by total sales in descending order. We first need to create a week column by extracting the week information from the sales_date column. Then, the week column will be used in the groupby function. Let’s also recall how the grocery looks by executing the following code."
   ]
  },
  {
   "cell_type": "code",
   "execution_count": null,
   "id": "c8665286-1d60-45af-bf8b-b3c9aedf9744",
   "metadata": {},
   "outputs": [],
   "source": [
    "import pandas as pd\n",
    "\n",
    "grocery = pd.read_csv(\"grocery.csv\")\n",
    "\n",
    "grocery[\"sales_date\"] = grocery[\"sales_date\"].astype(\"datetime64[ns]\")\n",
    "\n",
    "def find_weekly_sales():\n",
    "  try:\n",
    "    grocery[\"week\"] = grocery[\"sales_date\"].dt.week #isocalendar()\n",
    "    result = grocery.groupby(\"week\").agg(\n",
    "      total_sales = (\"sales_quantity\",\"sum\")\n",
    "    ).sort_values(by=\"total_sales\", ascending=False)\n",
    "\n",
    "    return list(result[\"total_sales\"])\n",
    "  except:\n",
    "    pass"
   ]
  },
  {
   "cell_type": "code",
   "execution_count": null,
   "id": "32891dfa-f6e2-4f92-9624-899dedcbf208",
   "metadata": {},
   "outputs": [],
   "source": []
  }
 ],
 "metadata": {
  "kernelspec": {
   "display_name": "Python 3 (ipykernel)",
   "language": "python",
   "name": "python3"
  },
  "language_info": {
   "codemirror_mode": {
    "name": "ipython",
    "version": 3
   },
   "file_extension": ".py",
   "mimetype": "text/x-python",
   "name": "python",
   "nbconvert_exporter": "python",
   "pygments_lexer": "ipython3",
   "version": "3.11.7"
  }
 },
 "nbformat": 4,
 "nbformat_minor": 5
}

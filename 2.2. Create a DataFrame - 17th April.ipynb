{
 "cells": [
  {
   "cell_type": "markdown",
   "metadata": {},
   "source": [
    "# Create a DataFrame\n",
    "\n",
    "Learn how to create a DataFrame by using different data structures.\n",
    "\n",
    "Although we mostly read data from an external file, Pandas also allows for creating your own <font color ='red'>DataFrame</font>."
   ]
  },
  {
   "cell_type": "markdown",
   "metadata": {},
   "source": [
    "# 1. Python dictionary\n",
    "One of the most commonly used methods to do so is with a Python dictionary. We just pass a dictionary to the DataFrame constructor."
   ]
  },
  {
   "cell_type": "code",
   "execution_count": 1,
   "metadata": {},
   "outputs": [
    {
     "name": "stdout",
     "output_type": "stream",
     "text": [
      "    Names  Ages  Score\n",
      "0    Jane    26   91.2\n",
      "1    John    24   94.1\n",
      "2    Matt    28   89.5\n",
      "3  Ashley    25   92.3\n"
     ]
    }
   ],
   "source": [
    "import pandas as pd\n",
    "\n",
    "df = pd.DataFrame({\n",
    "  \"Names\": [\"Jane\", \"John\", \"Matt\", \"Ashley\"],\n",
    "  \"Ages\": [26, 24, 28, 25],\n",
    "  \"Score\": [91.2, 94.1, 89.5, 92.3]\n",
    "})\n",
    "\n",
    "print(df)"
   ]
  },
  {
   "cell_type": "markdown",
   "metadata": {},
   "source": [
    "# 2.Two-dimensional array\n",
    "\n",
    "<font color ='red'>DataFrame</font> is a two-dimensional data structure that consists of rows and columns. Thus, we can convert a two-dimensional array into a <font color ='red'>DataFrame</font>. For instance, the <font color ='red'>DataFrame</font> constructor accepts NumPy arrays.\n",
    "\n",
    "The code below creates a <font color ='red'>DataFrame</font> using a NumPy array. By default, column names are assigned integer index, but we can change it using the <font color ='red'>columns</font> parameter."
   ]
  },
  {
   "cell_type": "code",
   "execution_count": 6,
   "metadata": {},
   "outputs": [
    {
     "name": "stdout",
     "output_type": "stream",
     "text": [
      "[[5 1 4 4 4]\n",
      " [7 4 7 7 7]\n",
      " [3 9 7 7 6]]\n"
     ]
    }
   ],
   "source": [
    "import numpy as np\n",
    "import pandas as pd\n",
    "\n",
    "arr = np.random.randint(1, 10, size=(3,5))\n",
    "\n",
    "# df = pd.DataFrame(arr, columns=[\"A\",\"B\",\"C\",\"D\",\"E\"])\n",
    "\n",
    "print(arr)"
   ]
  },
  {
   "cell_type": "code",
   "execution_count": 7,
   "metadata": {},
   "outputs": [
    {
     "name": "stdout",
     "output_type": "stream",
     "text": [
      "   A  B  C  D  E\n",
      "0  5  1  4  4  4\n",
      "1  7  4  7  7  7\n",
      "2  3  9  7  7  6\n"
     ]
    }
   ],
   "source": [
    "df = pd.DataFrame(arr, columns=[\"A\",\"B\",\"C\",\"D\",\"E\"])\n",
    "\n",
    "print(df)"
   ]
  },
  {
   "cell_type": "markdown",
   "metadata": {},
   "source": [
    "We’ve seen how to create a <font color ='red'>DataFrame</font>  using <u>Python dictionaries and NumPy arrays</u>."
   ]
  }
 ],
 "metadata": {
  "kernelspec": {
   "display_name": "Python 3",
   "language": "python",
   "name": "python3"
  },
  "language_info": {
   "codemirror_mode": {
    "name": "ipython",
    "version": 3
   },
   "file_extension": ".py",
   "mimetype": "text/x-python",
   "name": "python",
   "nbconvert_exporter": "python",
   "pygments_lexer": "ipython3",
   "version": "3.11.7"
  }
 },
 "nbformat": 4,
 "nbformat_minor": 2
}

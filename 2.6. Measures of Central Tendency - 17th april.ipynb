{
 "cells": [
  {
   "cell_type": "markdown",
   "metadata": {},
   "source": [
    "# The mean, median, and mode\n",
    "The mean, median, and mode are the measures of central tendency that give us an idea of the distribution of a variable.\n",
    "\n",
    " **Mean** is the average value. It can be calculated by adding all the numbers in a dataset and then dividing the sum by the number of values.\n",
    " \n",
    " **Median** is the middle value when the values are sorted in ascending or descending order. If the number of values in the dataset is even, the median is the average of the two values in the middle.\n",
    " \n",
    "For example, the following Series has six values. Run the code to verify that the median value is the average of the two values in the middle."
   ]
  },
  {
   "cell_type": "code",
   "execution_count": 1,
   "metadata": {},
   "outputs": [
    {
     "name": "stdout",
     "output_type": "stream",
     "text": [
      "6.0\n"
     ]
    }
   ],
   "source": [
    "import pandas as pd\n",
    "\n",
    "myseries = pd.Series([1, 2, 5, 7, 11, 36])\n",
    "\n",
    "print(myseries.median())"
   ]
  },
  {
   "cell_type": "markdown",
   "metadata": {},
   "source": [
    "**Mode** is the most frequent value in a dataset. Let’s run a quick example to find the mode of a dataset."
   ]
  },
  {
   "cell_type": "code",
   "execution_count": 2,
   "metadata": {},
   "outputs": [
    {
     "name": "stdout",
     "output_type": "stream",
     "text": [
      "0     1\n",
      "1     2\n",
      "2     5\n",
      "3     7\n",
      "4    11\n",
      "5    36\n",
      "dtype: int64\n"
     ]
    }
   ],
   "source": [
    "print(myseries.mode())"
   ]
  },
  {
   "cell_type": "code",
   "execution_count": 4,
   "metadata": {},
   "outputs": [
    {
     "name": "stdout",
     "output_type": "stream",
     "text": [
      "The mode of my series is 6\n"
     ]
    }
   ],
   "source": [
    "import pandas as pd\n",
    "\n",
    "myseries_ = pd.Series([1, 4, 6, 6, 6, 11, 11, 24])\n",
    "\n",
    "print(f\"The mode of my series is {myseries_.mode()[0]}\")"
   ]
  },
  {
   "cell_type": "code",
   "execution_count": 5,
   "metadata": {},
   "outputs": [
    {
     "name": "stdout",
     "output_type": "stream",
     "text": [
      "0    6\n",
      "dtype: int64\n"
     ]
    }
   ],
   "source": [
    "print(myseries_.mode())"
   ]
  },
  {
   "cell_type": "code",
   "execution_count": 6,
   "metadata": {},
   "outputs": [
    {
     "name": "stdout",
     "output_type": "stream",
     "text": [
      "0    1\n",
      "dtype: int64\n"
     ]
    }
   ],
   "source": [
    "my_series = pd.Series([1, 1, 2, 5, 7, 11, 36])\n",
    "\n",
    "print(my_series.mode())"
   ]
  },
  {
   "cell_type": "markdown",
   "metadata": {},
   "source": [
    "Mean and median are only applicable to numerical data, while the only mode is applicable to categorical data. For instance, the most popular burger in a restaurant is the mode of the dataset that contains all of the burgers sold in that particulate restaurant, not in the entire town.\n",
    "\n",
    "We might also be interested in the minimum and maximum values when exploring the data.\n",
    "\n",
    "Let’s calculate the measure of central tendency of the price column in the sales along with the minimum and maximum values."
   ]
  },
  {
   "cell_type": "code",
   "execution_count": 9,
   "metadata": {},
   "outputs": [
    {
     "name": "stdout",
     "output_type": "stream",
     "text": [
      "mean: \n",
      "67.06351000000001\n",
      "median: \n",
      "23.74\n",
      "mode: \n",
      "10.44\n",
      "minimum: \n",
      "0.66\n",
      "maximum: \n",
      "1500.05\n"
     ]
    }
   ],
   "source": [
    "import pandas as pd\n",
    "\n",
    "sales = pd.read_csv(\"sales.csv\")\n",
    "\n",
    "print(\"mean: \") \n",
    "print(sales[\"price\"].mean())\n",
    "\n",
    "\n",
    "print(\"median: \")\n",
    "print(sales[\"price\"].median())\n",
    "\n",
    "print(\"mode: \")\n",
    "print(sales[\"price\"].mode()[0])\n",
    "\n",
    "print(\"minimum: \")\n",
    "print(sales[\"price\"].min())\n",
    "\n",
    "print(\"maximum: \")\n",
    "print(sales[\"price\"].max())"
   ]
  },
  {
   "cell_type": "markdown",
   "metadata": {},
   "source": [
    "The average price is about 67 and the median is about 23. This indicates that we have some products that are priced higher compared to other ones.\n",
    "\n",
    "Measures of central tendency are fundamental to descriptive statistics. To better understand the distribution of a variable, we also need to account for the variance or standard deviation.\n",
    "\n",
    "Variance is a measure of the variation among values. It can be calculated as follows:\n",
    "\n",
    "1. Find the difference between each value in the dataset and the mean.\n",
    "2. Take the square of the differences.\n",
    "3. Find the average of the squared differences.\n",
    "\n",
    "Standard deviation is a measure of how spread out the values are. To be more specific, it’s the square root of variance.\n",
    "\n",
    "The <font color='red'>var</font> and <font color='red'>std</font> methods of Pandas can be used to calculate the variance and standard deviation, respectively."
   ]
  },
  {
   "cell_type": "code",
   "execution_count": 10,
   "metadata": {},
   "outputs": [
    {
     "name": "stdout",
     "output_type": "stream",
     "text": [
      "variance: \n",
      "20766.24382460458\n",
      "standard deviation: \n",
      "144.10497501684173\n"
     ]
    }
   ],
   "source": [
    "import pandas as pd\n",
    "\n",
    "sales = pd.read_csv(\"sales.csv\")\n",
    "\n",
    "print(\"variance: \")\n",
    "print(sales[\"price\"].var())\n",
    "\n",
    "print(\"standard deviation: \")\n",
    "print(sales[\"price\"].std())"
   ]
  },
  {
   "cell_type": "markdown",
   "metadata": {},
   "source": [
    "The variance and standard deviation give us an idea of how the values are spread out around the measure of central tendency. In general, the higher the standard deviation is, the more spread out the values are."
   ]
  }
 ],
 "metadata": {
  "kernelspec": {
   "display_name": "Python 3",
   "language": "python",
   "name": "python3"
  },
  "language_info": {
   "codemirror_mode": {
    "name": "ipython",
    "version": 3
   },
   "file_extension": ".py",
   "mimetype": "text/x-python",
   "name": "python",
   "nbconvert_exporter": "python",
   "pygments_lexer": "ipython3",
   "version": "3.11.7"
  }
 },
 "nbformat": 4,
 "nbformat_minor": 2
}

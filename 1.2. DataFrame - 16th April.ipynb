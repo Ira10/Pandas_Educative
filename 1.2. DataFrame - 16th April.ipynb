{
 "cells": [
  {
   "cell_type": "markdown",
   "id": "66d394e8-6148-4a07-8b60-02c41be91188",
   "metadata": {},
   "source": [
    "# Pandas DataFrame \n"
   ]
  },
  {
   "cell_type": "markdown",
   "id": "c5123bfc-349a-44f5-99d4-bb9c0c985683",
   "metadata": {},
   "source": [
    "# What is **<font color='brown'>DataFrame</font>** in Pandas?\n",
    "\n",
    "<font color='red'>DataFrame</font> is the two-dimensional data structure of Pandas. It consists of labeled rows and columns.\n",
    "\n",
    "Let’s create a simple one to understand the basic features of a DataFrame. To create a DataFrame, we can pass a Python dictionary to its constructor."
   ]
  },
  {
   "cell_type": "code",
   "execution_count": 1,
   "id": "bd336de1-a8db-410e-b287-fd504f9c1289",
   "metadata": {},
   "outputs": [
    {
     "name": "stdout",
     "output_type": "stream",
     "text": [
      "     Name  Age\n",
      "0    Jane   24\n",
      "1    John   21\n",
      "2    Matt   26\n",
      "3  Ashley   32\n"
     ]
    }
   ],
   "source": [
    "import pandas as pd\n",
    "\n",
    "df = pd.DataFrame({\n",
    "    \"Name\": [\"Jane\", \"John\", \"Matt\", \"Ashley\"],\n",
    "    \"Age\": [24, 21, 26, 32]\n",
    "})\n",
    "\n",
    "print(df)"
   ]
  },
  {
   "cell_type": "markdown",
   "id": "44e2d73d-2ee0-480b-be45-53e0670fd3d7",
   "metadata": {},
   "source": [
    "Dictionary keys become the column names and the values become the data stored in the <font color='red'>DataFrame</font>. We now have a <font color='red'>DataFrame</font> with two columns and four rows. We can check the dimensions of a <font color='red'>DataFrame</font> using the <font color='red'>shape</font> method that returns a tuple containing the number of rows and columns."
   ]
  },
  {
   "cell_type": "code",
   "execution_count": 2,
   "id": "0ef08416-8c7b-4219-9b05-2ca2b6f2ba4c",
   "metadata": {},
   "outputs": [
    {
     "name": "stdout",
     "output_type": "stream",
     "text": [
      "(4, 2)\n"
     ]
    }
   ],
   "source": [
    "import pandas as pd\n",
    "\n",
    "df = pd.DataFrame({\n",
    "    \"Name\": [\"Jane\", \"John\", \"Matt\", \"Ashley\"],\n",
    "    \"Age\": [24, 21, 26, 32]\n",
    "})\n",
    "\n",
    "print(df.shape)"
   ]
  },
  {
   "cell_type": "code",
   "execution_count": null,
   "id": "e3e58626-ad77-4dd6-a583-f345f48ca6da",
   "metadata": {},
   "outputs": [],
   "source": []
  }
 ],
 "metadata": {
  "kernelspec": {
   "display_name": "Python 3 (ipykernel)",
   "language": "python",
   "name": "python3"
  },
  "language_info": {
   "codemirror_mode": {
    "name": "ipython",
    "version": 3
   },
   "file_extension": ".py",
   "mimetype": "text/x-python",
   "name": "python",
   "nbconvert_exporter": "python",
   "pygments_lexer": "ipython3",
   "version": "3.11.7"
  }
 },
 "nbformat": 4,
 "nbformat_minor": 5
}

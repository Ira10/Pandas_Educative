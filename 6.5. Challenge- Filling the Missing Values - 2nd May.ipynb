{
 "cells": [
  {
   "cell_type": "markdown",
   "id": "e5193164-7fc9-400a-ab80-6631fda20ce0",
   "metadata": {},
   "source": [
    "## Problem statement\n",
    "We have the following DataFrame with two columns and ten rows. We want to fill the missing values in the measurement column with their previous values, but we’re only allowed to fill two consecutive values with this method. The remaining ones need to be filled with the average value of the column."
   ]
  },
  {
   "cell_type": "code",
   "execution_count": 2,
   "id": "49ac8f29-0370-4387-86ee-e41c4bfa7bd5",
   "metadata": {},
   "outputs": [
    {
     "data": {
      "text/html": [
       "<div>\n",
       "<style scoped>\n",
       "    .dataframe tbody tr th:only-of-type {\n",
       "        vertical-align: middle;\n",
       "    }\n",
       "\n",
       "    .dataframe tbody tr th {\n",
       "        vertical-align: top;\n",
       "    }\n",
       "\n",
       "    .dataframe thead th {\n",
       "        text-align: right;\n",
       "    }\n",
       "</style>\n",
       "<table border=\"1\" class=\"dataframe\">\n",
       "  <thead>\n",
       "    <tr style=\"text-align: right;\">\n",
       "      <th></th>\n",
       "      <th>Date</th>\n",
       "      <th>Measurement</th>\n",
       "    </tr>\n",
       "  </thead>\n",
       "  <tbody>\n",
       "    <tr>\n",
       "      <th>0</th>\n",
       "      <td>2021-10-01</td>\n",
       "      <td>16.0</td>\n",
       "    </tr>\n",
       "    <tr>\n",
       "      <th>1</th>\n",
       "      <td>2021-10-02</td>\n",
       "      <td>13.0</td>\n",
       "    </tr>\n",
       "    <tr>\n",
       "      <th>2</th>\n",
       "      <td>2021-10-03</td>\n",
       "      <td>14.0</td>\n",
       "    </tr>\n",
       "    <tr>\n",
       "      <th>3</th>\n",
       "      <td>2021-10-04</td>\n",
       "      <td>12.0</td>\n",
       "    </tr>\n",
       "    <tr>\n",
       "      <th>4</th>\n",
       "      <td>2021-10-05</td>\n",
       "      <td>NaN</td>\n",
       "    </tr>\n",
       "    <tr>\n",
       "      <th>5</th>\n",
       "      <td>2021-10-06</td>\n",
       "      <td>NaN</td>\n",
       "    </tr>\n",
       "    <tr>\n",
       "      <th>6</th>\n",
       "      <td>2021-10-07</td>\n",
       "      <td>NaN</td>\n",
       "    </tr>\n",
       "    <tr>\n",
       "      <th>7</th>\n",
       "      <td>2021-10-08</td>\n",
       "      <td>8.0</td>\n",
       "    </tr>\n",
       "    <tr>\n",
       "      <th>8</th>\n",
       "      <td>2021-10-09</td>\n",
       "      <td>7.0</td>\n",
       "    </tr>\n",
       "    <tr>\n",
       "      <th>9</th>\n",
       "      <td>2021-10-10</td>\n",
       "      <td>5.0</td>\n",
       "    </tr>\n",
       "  </tbody>\n",
       "</table>\n",
       "</div>"
      ],
      "text/plain": [
       "        Date  Measurement\n",
       "0 2021-10-01         16.0\n",
       "1 2021-10-02         13.0\n",
       "2 2021-10-03         14.0\n",
       "3 2021-10-04         12.0\n",
       "4 2021-10-05          NaN\n",
       "5 2021-10-06          NaN\n",
       "6 2021-10-07          NaN\n",
       "7 2021-10-08          8.0\n",
       "8 2021-10-09          7.0\n",
       "9 2021-10-10          5.0"
      ]
     },
     "execution_count": 2,
     "metadata": {},
     "output_type": "execute_result"
    }
   ],
   "source": [
    "import numpy as np\n",
    "import pandas as pd\n",
    "\n",
    "df = pd.DataFrame({\n",
    "    \"Date\": pd.date_range(start=\"2021-10-01\", periods=10),\n",
    "    \"Measurement\": [16, 13, 14, 12, np.nan, np.nan, np.nan, 8, 7, 5]\n",
    "})\n",
    "\n",
    "# def fill_missing_values():\n",
    "#   try:\n",
    "#     '''\n",
    "#     # Write your solution here\n",
    "#     # Write your solution here\n",
    "#     return list(df[\"Measurement\"])\n",
    "#     '''\n",
    "#   except:\n",
    "#     pass\n",
    "df"
   ]
  },
  {
   "cell_type": "code",
   "execution_count": 4,
   "id": "f2591578-c7b6-4303-828a-22a9449d744c",
   "metadata": {},
   "outputs": [],
   "source": [
    "import numpy as np\n",
    "import pandas as pd\n",
    "\n",
    "df = pd.DataFrame({\n",
    "    \"Date\": pd.date_range(start=\"2021-10-01\", periods=10),\n",
    "    \"Measurement\": [16, 13, 14, 12, np.nan, np.nan, np.nan, 8, 7, 5]\n",
    "})\n",
    "\n",
    "def fill_missing_values():\n",
    "  try:\n",
    "    \n",
    "    df.fillna(method=\"ffill\", limit=2, inplace=True)\n",
    "    df.fillna(value=df[\"Measurement\"].mean(), inplace=True)\n",
    "    return list(df[\"Measurement\"])\n",
    "    \n",
    "  except:\n",
    "    pass"
   ]
  },
  {
   "cell_type": "markdown",
   "id": "4cb20588-2679-4a0c-9c16-54b6d0eef276",
   "metadata": {},
   "source": [
    "How can we check the number of missing values in each column of a DataFrame?\n",
    "\n"
   ]
  },
  {
   "cell_type": "code",
   "execution_count": null,
   "id": "dfab533d-f53e-4e3b-ad8b-c94fd8f2ecd3",
   "metadata": {},
   "outputs": [],
   "source": [
    "isna().sum()"
   ]
  },
  {
   "cell_type": "markdown",
   "id": "d23fb8c1-65be-4d7b-99f2-28b559e84b49",
   "metadata": {},
   "source": [
    "How can we drop the rows that only have missing values?\n",
    "\n"
   ]
  },
  {
   "cell_type": "code",
   "execution_count": null,
   "id": "590f5091-0f76-47b8-9e02-e15c3463a626",
   "metadata": {},
   "outputs": [],
   "source": [
    "df.dropna(how=\"all\", inplace=True)\n",
    "\n",
    "\n",
    "\n"
   ]
  },
  {
   "cell_type": "markdown",
   "id": "f1b25a1d-1746-42b0-bde3-110a336e77ca",
   "metadata": {},
   "source": [
    "Suppose we have a DataFrame called df that contains ten columns. We want to drop the rows that have more than four missing values. Which of the following options perform this task?\n",
    "\n"
   ]
  },
  {
   "cell_type": "code",
   "execution_count": null,
   "id": "f4249640-0b00-482e-bcbb-7f06662ef769",
   "metadata": {},
   "outputs": [],
   "source": [
    "df.dropna(thresh=6, inplace=True)\n",
    "\n"
   ]
  },
  {
   "cell_type": "markdown",
   "id": "31961c12-d2a1-4a18-a551-e99342e130d0",
   "metadata": {},
   "source": [
    "We have ten columns and want to drop the rows that have more than four missing values. Thus, a row needs to have at least six non-missing values not to be dropped.\n",
    "\n",
    "\n"
   ]
  }
 ],
 "metadata": {
  "kernelspec": {
   "display_name": "Python 3 (ipykernel)",
   "language": "python",
   "name": "python3"
  },
  "language_info": {
   "codemirror_mode": {
    "name": "ipython",
    "version": 3
   },
   "file_extension": ".py",
   "mimetype": "text/x-python",
   "name": "python",
   "nbconvert_exporter": "python",
   "pygments_lexer": "ipython3",
   "version": "3.11.7"
  }
 },
 "nbformat": 4,
 "nbformat_minor": 5
}

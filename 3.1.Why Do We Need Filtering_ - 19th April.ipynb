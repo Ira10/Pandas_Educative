{
 "cells": [
  {
   "cell_type": "markdown",
   "id": "3748e33b-4760-4d43-b565-fb5d8a21f2f4",
   "metadata": {},
   "source": [
    "One of the most commonly performed operations on a <font color = 'red'>DataFrame</font> is filtering. It essentially involves excluding some values to meet a condition or set of conditions."
   ]
  },
  {
   "cell_type": "markdown",
   "id": "fca0b60e-56ca-420f-a6ef-a8811ee5c5cd",
   "metadata": {},
   "source": [
    "When to filter a DataFrame?\n",
    "We may need to filter for several reasons:\n",
    "\n",
    "1. We filter when we need to remove redundant or unnecessary data for some tasks. Suppose we’re working on a machine-learning task to predict customer churn. A customer’s bank account number is redundant in this case and needs to be filtered out.\n",
    "2. Consider a data analyst working at a bank. The bank is planning to announce a promotion for customers that meet certain criteria in terms of account balance, monthly spending, and products (possession of a credit card or checking account). The data analyst needs to filter the data to find customers eligible for the promotion.\n",
    "  \n",
    "   Filtering is also necessary for data cleaning and manipulation. We may want to filter out observations (rows in a DataFrame) that have missing values in some columns.\n",
    "6. Filtering is frequently used in data analysis as well. Suppose we’re grouping customers according to the spending amount. In this case, we filter customers based on the amount spent and then group them.\n",
    "\n",
    "We can filter in terms of observations (rows) or features (columns). Thankfully, Pandas is quite flexible and efficient for such operations. In this chapter, we’ll cover different methods that can be used to filter both rows and columns in a DataFrame."
   ]
  }
 ],
 "metadata": {
  "kernelspec": {
   "display_name": "Python 3 (ipykernel)",
   "language": "python",
   "name": "python3"
  },
  "language_info": {
   "codemirror_mode": {
    "name": "ipython",
    "version": 3
   },
   "file_extension": ".py",
   "mimetype": "text/x-python",
   "name": "python",
   "nbconvert_exporter": "python",
   "pygments_lexer": "ipython3",
   "version": "3.11.7"
  }
 },
 "nbformat": 4,
 "nbformat_minor": 5
}

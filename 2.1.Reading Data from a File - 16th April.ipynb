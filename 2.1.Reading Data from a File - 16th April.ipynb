{
 "cells": [
  {
   "cell_type": "markdown",
   "id": "2002f4f7-7b22-4c2a-9b6a-49b045cc6bd6",
   "metadata": {},
   "source": [
    "# Reading data from a csv file\n",
    "\n",
    "In most cases, we’ll read data from a file. The most commonly used file formats are csv, excel, parquet, and json. In this course, we’ll use csv files. The pandas <font color ='green'>read_csv</font> function creates a <font color ='red'>DataFrame</font> from a csv file. Pandas provides several other functions for reading data in files with different formats, such as <font color ='green'>read_json, read_parquet, read_excel</font>, and so on.\n",
    "\n",
    "The code below demonstrates how to use the <font color ='red'>read_csv</font> function. The only required parameter is the file path that tells the function where the file is located, relative to the current working directory. If the file is in the current working directory, then we simply need to give the file name to the function.\n",
    "\n",
    "The <font color ='green'>head</font> method returns the first five rows of the <font color ='red'>DataFrame</font> to retrieve an overview of what the dataset looks like.\n",
    "\n"
   ]
  },
  {
   "cell_type": "code",
   "execution_count": 2,
   "id": "7f568b50-ba6d-433b-9e2a-ea1d95bd54ec",
   "metadata": {},
   "outputs": [
    {
     "name": "stdout",
     "output_type": "stream",
     "text": [
      "   product_code product_group  stock_qty    cost    price  last_week_sales  \\\n",
      "0          4187           PG2        498  420.76   569.91               13   \n",
      "1          4195           PG2        473  545.64   712.41               16   \n",
      "2          4204           PG2        968  640.42   854.91               22   \n",
      "3          4219           PG2        241  869.69  1034.55               14   \n",
      "4          4718           PG2       1401   12.54    26.59               50   \n",
      "\n",
      "   last_month_sales  \n",
      "0                58  \n",
      "1                58  \n",
      "2                88  \n",
      "3                45  \n",
      "4               285  \n"
     ]
    }
   ],
   "source": [
    "import pandas as pd\n",
    "\n",
    "sales = pd.read_csv(\"sales.csv\")\n",
    "\n",
    "print(sales.head())"
   ]
  },
  {
   "cell_type": "markdown",
   "id": "285bf643-5586-4274-b4fd-ef1a330b4d48",
   "metadata": {},
   "source": [
    "# Using **<font color='brown'>usecols</font>** parameter\n",
    "\n",
    "There are several other parameters of the <font color ='red'>read_csv</font> function. For instance, we have the option to read only some of the columns from the csv file."
   ]
  },
  {
   "cell_type": "code",
   "execution_count": 3,
   "id": "82afa2ef-86d6-4053-b411-65af3ae879c0",
   "metadata": {},
   "outputs": [
    {
     "name": "stdout",
     "output_type": "stream",
     "text": [
      "   product_code product_group  stock_qty\n",
      "0          4187           PG2        498\n",
      "1          4195           PG2        473\n",
      "2          4204           PG2        968\n",
      "3          4219           PG2        241\n",
      "4          4718           PG2       1401\n"
     ]
    }
   ],
   "source": [
    "import pandas as pd\n",
    "\n",
    "sales = pd.read_csv(\"sales.csv\", usecols=[\"product_code\",\"product_group\",\"stock_qty\"])\n",
    "\n",
    "print(sales.head())"
   ]
  },
  {
   "cell_type": "markdown",
   "id": "22a33727-26e3-4a82-ac74-5adb37a970f1",
   "metadata": {},
   "source": [
    "<font color ='red'>DataFrame</font> consists of rows and columns. Just like we can choose to read only some of the columns, the <font color ='red'>read_csv</font> function lets us limit the number of rows read by using the nrows parameter. It’s especially useful when working with large files.\n",
    "\n",
    "Suppose we’ve a file with 10 million rows. For a quick analysis or exploration, we can set the <font color ='red'>nrows</font> parameter as 1000 to read only 1000 rows in the file."
   ]
  },
  {
   "cell_type": "code",
   "execution_count": 7,
   "id": "b9cd1ebc-f8f6-4a83-9ed5-54cf70aa9085",
   "metadata": {},
   "outputs": [
    {
     "ename": "AttributeError",
     "evalue": "'DataFrame' object has no attribute 'nrows'",
     "output_type": "error",
     "traceback": [
      "\u001b[0;31m---------------------------------------------------------------------------\u001b[0m",
      "\u001b[0;31mAttributeError\u001b[0m                            Traceback (most recent call last)",
      "\u001b[0;32m/var/folders/xf/3bf42sf15wjfggk9wwj3xr7h0000gn/T/ipykernel_37364/4130311704.py\u001b[0m in \u001b[0;36m?\u001b[0;34m()\u001b[0m\n\u001b[1;32m      1\u001b[0m \u001b[0;32mimport\u001b[0m \u001b[0mpandas\u001b[0m \u001b[0;32mas\u001b[0m \u001b[0mpd\u001b[0m\u001b[0;34m\u001b[0m\u001b[0;34m\u001b[0m\u001b[0m\n\u001b[1;32m      2\u001b[0m \u001b[0;34m\u001b[0m\u001b[0m\n\u001b[1;32m      3\u001b[0m \u001b[0mnrows\u001b[0m\u001b[0;34m=\u001b[0m\u001b[0;36m100\u001b[0m\u001b[0;34m\u001b[0m\u001b[0;34m\u001b[0m\u001b[0m\n\u001b[0;32m----> 4\u001b[0;31m \u001b[0msales\u001b[0m \u001b[0;34m=\u001b[0m \u001b[0mpd\u001b[0m\u001b[0;34m.\u001b[0m\u001b[0mread_csv\u001b[0m\u001b[0;34m(\u001b[0m\u001b[0;34m\"sales.csv\"\u001b[0m\u001b[0;34m,\u001b[0m \u001b[0musecols\u001b[0m\u001b[0;34m=\u001b[0m\u001b[0;34m[\u001b[0m\u001b[0;34m\"product_code\"\u001b[0m\u001b[0;34m,\u001b[0m\u001b[0;34m\"product_group\"\u001b[0m\u001b[0;34m,\u001b[0m\u001b[0;34m\"stock_qty\"\u001b[0m\u001b[0;34m]\u001b[0m\u001b[0;34m)\u001b[0m\u001b[0;34m.\u001b[0m\u001b[0mnrows\u001b[0m\u001b[0;34m\u001b[0m\u001b[0;34m\u001b[0m\u001b[0m\n\u001b[0m\u001b[1;32m      5\u001b[0m \u001b[0;34m\u001b[0m\u001b[0m\n\u001b[1;32m      6\u001b[0m \u001b[0mprint\u001b[0m\u001b[0;34m(\u001b[0m\u001b[0msales\u001b[0m\u001b[0;34m)\u001b[0m\u001b[0;34m\u001b[0m\u001b[0;34m\u001b[0m\u001b[0m\n",
      "\u001b[0;32m/Users/anaconda3/lib/python3.11/site-packages/pandas/core/generic.py\u001b[0m in \u001b[0;36m?\u001b[0;34m(self, name)\u001b[0m\n\u001b[1;32m   6200\u001b[0m             \u001b[0;32mand\u001b[0m \u001b[0mname\u001b[0m \u001b[0;32mnot\u001b[0m \u001b[0;32min\u001b[0m \u001b[0mself\u001b[0m\u001b[0;34m.\u001b[0m\u001b[0m_accessors\u001b[0m\u001b[0;34m\u001b[0m\u001b[0;34m\u001b[0m\u001b[0m\n\u001b[1;32m   6201\u001b[0m             \u001b[0;32mand\u001b[0m \u001b[0mself\u001b[0m\u001b[0;34m.\u001b[0m\u001b[0m_info_axis\u001b[0m\u001b[0;34m.\u001b[0m\u001b[0m_can_hold_identifiers_and_holds_name\u001b[0m\u001b[0;34m(\u001b[0m\u001b[0mname\u001b[0m\u001b[0;34m)\u001b[0m\u001b[0;34m\u001b[0m\u001b[0;34m\u001b[0m\u001b[0m\n\u001b[1;32m   6202\u001b[0m         ):\n\u001b[1;32m   6203\u001b[0m             \u001b[0;32mreturn\u001b[0m \u001b[0mself\u001b[0m\u001b[0;34m[\u001b[0m\u001b[0mname\u001b[0m\u001b[0;34m]\u001b[0m\u001b[0;34m\u001b[0m\u001b[0;34m\u001b[0m\u001b[0m\n\u001b[0;32m-> 6204\u001b[0;31m         \u001b[0;32mreturn\u001b[0m \u001b[0mobject\u001b[0m\u001b[0;34m.\u001b[0m\u001b[0m__getattribute__\u001b[0m\u001b[0;34m(\u001b[0m\u001b[0mself\u001b[0m\u001b[0;34m,\u001b[0m \u001b[0mname\u001b[0m\u001b[0;34m)\u001b[0m\u001b[0;34m\u001b[0m\u001b[0;34m\u001b[0m\u001b[0m\n\u001b[0m",
      "\u001b[0;31mAttributeError\u001b[0m: 'DataFrame' object has no attribute 'nrows'"
     ]
    }
   ],
   "source": [
    "import pandas as pd\n",
    "\n",
    "nrows=100\n",
    "sales = pd.read_csv(\"sales.csv\", usecols=[\"product_code\",\"product_group\",\"stock_qty\"]).nrows\n",
    "\n",
    "print(sales)"
   ]
  },
  {
   "cell_type": "code",
   "execution_count": null,
   "id": "03bcd545-ed1c-4c85-bd44-f6026ab01b3b",
   "metadata": {},
   "outputs": [],
   "source": []
  }
 ],
 "metadata": {
  "kernelspec": {
   "display_name": "Python 3 (ipykernel)",
   "language": "python",
   "name": "python3"
  },
  "language_info": {
   "codemirror_mode": {
    "name": "ipython",
    "version": 3
   },
   "file_extension": ".py",
   "mimetype": "text/x-python",
   "name": "python",
   "nbconvert_exporter": "python",
   "pygments_lexer": "ipython3",
   "version": "3.11.7"
  }
 },
 "nbformat": 4,
 "nbformat_minor": 5
}
